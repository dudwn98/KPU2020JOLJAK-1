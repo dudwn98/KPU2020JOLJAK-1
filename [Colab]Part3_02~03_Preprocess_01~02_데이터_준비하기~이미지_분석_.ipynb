{
  "nbformat": 4,
  "nbformat_minor": 0,
  "metadata": {
    "kernelspec": {
      "display_name": "Python 3",
      "language": "python",
      "name": "python3"
    },
    "language_info": {
      "codemirror_mode": {
        "name": "ipython",
        "version": 3
      },
      "file_extension": ".py",
      "mimetype": "text/x-python",
      "name": "python",
      "nbconvert_exporter": "python",
      "pygments_lexer": "ipython3",
      "version": "3.7.3"
    },
    "colab": {
      "name": "[Colab]Part3_02~03. Preprocess - 01~02.데이터_준비하기~이미지 분석_.ipynb",
      "provenance": [],
      "collapsed_sections": [],
      "include_colab_link": true
    },
    "widgets": {
      "application/vnd.jupyter.widget-state+json": {
        "48f068f3dfdb4241a5d48069f9007a98": {
          "model_module": "@jupyter-widgets/controls",
          "model_name": "HBoxModel",
          "state": {
            "_view_name": "HBoxView",
            "_dom_classes": [],
            "_model_name": "HBoxModel",
            "_view_module": "@jupyter-widgets/controls",
            "_model_module_version": "1.5.0",
            "_view_count": null,
            "_view_module_version": "1.5.0",
            "box_style": "",
            "layout": "IPY_MODEL_f9e531eb36a14806aadd39e547c13435",
            "_model_module": "@jupyter-widgets/controls",
            "children": [
              "IPY_MODEL_0fcd71939cfa4c93b00380a2daad3060",
              "IPY_MODEL_81ff990a0ea6463cbd8ec24477b0af6d"
            ]
          }
        },
        "f9e531eb36a14806aadd39e547c13435": {
          "model_module": "@jupyter-widgets/base",
          "model_name": "LayoutModel",
          "state": {
            "_view_name": "LayoutView",
            "grid_template_rows": null,
            "right": null,
            "justify_content": null,
            "_view_module": "@jupyter-widgets/base",
            "overflow": null,
            "_model_module_version": "1.2.0",
            "_view_count": null,
            "flex_flow": null,
            "width": null,
            "min_width": null,
            "border": null,
            "align_items": null,
            "bottom": null,
            "_model_module": "@jupyter-widgets/base",
            "top": null,
            "grid_column": null,
            "overflow_y": null,
            "overflow_x": null,
            "grid_auto_flow": null,
            "grid_area": null,
            "grid_template_columns": null,
            "flex": null,
            "_model_name": "LayoutModel",
            "justify_items": null,
            "grid_row": null,
            "max_height": null,
            "align_content": null,
            "visibility": null,
            "align_self": null,
            "height": null,
            "min_height": null,
            "padding": null,
            "grid_auto_rows": null,
            "grid_gap": null,
            "max_width": null,
            "order": null,
            "_view_module_version": "1.2.0",
            "grid_template_areas": null,
            "object_position": null,
            "object_fit": null,
            "grid_auto_columns": null,
            "margin": null,
            "display": null,
            "left": null
          }
        },
        "0fcd71939cfa4c93b00380a2daad3060": {
          "model_module": "@jupyter-widgets/controls",
          "model_name": "FloatProgressModel",
          "state": {
            "_view_name": "ProgressView",
            "style": "IPY_MODEL_8688e33d7a7b48d691d3cbdeba2856d9",
            "_dom_classes": [],
            "description": "100%",
            "_model_name": "FloatProgressModel",
            "bar_style": "success",
            "max": 60000,
            "_view_module": "@jupyter-widgets/controls",
            "_model_module_version": "1.5.0",
            "value": 60000,
            "_view_count": null,
            "_view_module_version": "1.5.0",
            "orientation": "horizontal",
            "min": 0,
            "description_tooltip": null,
            "_model_module": "@jupyter-widgets/controls",
            "layout": "IPY_MODEL_38dc05f0f19e4b78ad21244444540611"
          }
        },
        "81ff990a0ea6463cbd8ec24477b0af6d": {
          "model_module": "@jupyter-widgets/controls",
          "model_name": "HTMLModel",
          "state": {
            "_view_name": "HTMLView",
            "style": "IPY_MODEL_c9640b05e28740dabdd192b6aef74b5d",
            "_dom_classes": [],
            "description": "",
            "_model_name": "HTMLModel",
            "placeholder": "​",
            "_view_module": "@jupyter-widgets/controls",
            "_model_module_version": "1.5.0",
            "value": " 60000/60000 [00:24&lt;00:00, 2498.81it/s]",
            "_view_count": null,
            "_view_module_version": "1.5.0",
            "description_tooltip": null,
            "_model_module": "@jupyter-widgets/controls",
            "layout": "IPY_MODEL_5d595fbbf5544c7494f3d457b1f02063"
          }
        },
        "8688e33d7a7b48d691d3cbdeba2856d9": {
          "model_module": "@jupyter-widgets/controls",
          "model_name": "ProgressStyleModel",
          "state": {
            "_view_name": "StyleView",
            "_model_name": "ProgressStyleModel",
            "description_width": "initial",
            "_view_module": "@jupyter-widgets/base",
            "_model_module_version": "1.5.0",
            "_view_count": null,
            "_view_module_version": "1.2.0",
            "bar_color": null,
            "_model_module": "@jupyter-widgets/controls"
          }
        },
        "38dc05f0f19e4b78ad21244444540611": {
          "model_module": "@jupyter-widgets/base",
          "model_name": "LayoutModel",
          "state": {
            "_view_name": "LayoutView",
            "grid_template_rows": null,
            "right": null,
            "justify_content": null,
            "_view_module": "@jupyter-widgets/base",
            "overflow": null,
            "_model_module_version": "1.2.0",
            "_view_count": null,
            "flex_flow": null,
            "width": null,
            "min_width": null,
            "border": null,
            "align_items": null,
            "bottom": null,
            "_model_module": "@jupyter-widgets/base",
            "top": null,
            "grid_column": null,
            "overflow_y": null,
            "overflow_x": null,
            "grid_auto_flow": null,
            "grid_area": null,
            "grid_template_columns": null,
            "flex": null,
            "_model_name": "LayoutModel",
            "justify_items": null,
            "grid_row": null,
            "max_height": null,
            "align_content": null,
            "visibility": null,
            "align_self": null,
            "height": null,
            "min_height": null,
            "padding": null,
            "grid_auto_rows": null,
            "grid_gap": null,
            "max_width": null,
            "order": null,
            "_view_module_version": "1.2.0",
            "grid_template_areas": null,
            "object_position": null,
            "object_fit": null,
            "grid_auto_columns": null,
            "margin": null,
            "display": null,
            "left": null
          }
        },
        "c9640b05e28740dabdd192b6aef74b5d": {
          "model_module": "@jupyter-widgets/controls",
          "model_name": "DescriptionStyleModel",
          "state": {
            "_view_name": "StyleView",
            "_model_name": "DescriptionStyleModel",
            "description_width": "",
            "_view_module": "@jupyter-widgets/base",
            "_model_module_version": "1.5.0",
            "_view_count": null,
            "_view_module_version": "1.2.0",
            "_model_module": "@jupyter-widgets/controls"
          }
        },
        "5d595fbbf5544c7494f3d457b1f02063": {
          "model_module": "@jupyter-widgets/base",
          "model_name": "LayoutModel",
          "state": {
            "_view_name": "LayoutView",
            "grid_template_rows": null,
            "right": null,
            "justify_content": null,
            "_view_module": "@jupyter-widgets/base",
            "overflow": null,
            "_model_module_version": "1.2.0",
            "_view_count": null,
            "flex_flow": null,
            "width": null,
            "min_width": null,
            "border": null,
            "align_items": null,
            "bottom": null,
            "_model_module": "@jupyter-widgets/base",
            "top": null,
            "grid_column": null,
            "overflow_y": null,
            "overflow_x": null,
            "grid_auto_flow": null,
            "grid_area": null,
            "grid_template_columns": null,
            "flex": null,
            "_model_name": "LayoutModel",
            "justify_items": null,
            "grid_row": null,
            "max_height": null,
            "align_content": null,
            "visibility": null,
            "align_self": null,
            "height": null,
            "min_height": null,
            "padding": null,
            "grid_auto_rows": null,
            "grid_gap": null,
            "max_width": null,
            "order": null,
            "_view_module_version": "1.2.0",
            "grid_template_areas": null,
            "object_position": null,
            "object_fit": null,
            "grid_auto_columns": null,
            "margin": null,
            "display": null,
            "left": null
          }
        }
      }
    }
  },
  "cells": [
    {
      "cell_type": "markdown",
      "metadata": {
        "id": "view-in-github",
        "colab_type": "text"
      },
      "source": [
        "<a href=\"https://colab.research.google.com/github/dudwn98/KPU2020JOLJAK-1/blob/master/%5BColab%5DPart3_02~03_Preprocess_01~02_%EB%8D%B0%EC%9D%B4%ED%84%B0_%EC%A4%80%EB%B9%84%ED%95%98%EA%B8%B0~%EC%9D%B4%EB%AF%B8%EC%A7%80_%EB%B6%84%EC%84%9D_.ipynb\" target=\"_parent\"><img src=\"https://colab.research.google.com/assets/colab-badge.svg\" alt=\"Open In Colab\"/></a>"
      ]
    },
    {
      "cell_type": "code",
      "metadata": {
        "id": "21nD6WmW_okI",
        "colab": {
          "base_uri": "https://localhost:8080/"
        },
        "outputId": "f4977bba-4b08-4ee8-d770-099063097dbc"
      },
      "source": [
        "from google.colab import drive\n",
        "drive.mount('/content/drive')"
      ],
      "execution_count": 1,
      "outputs": [
        {
          "output_type": "stream",
          "text": [
            "Mounted at /content/drive\n"
          ],
          "name": "stdout"
        }
      ]
    },
    {
      "cell_type": "code",
      "metadata": {
        "id": "t3w0f0ky_fgA"
      },
      "source": [
        "import os\n",
        "from glob import glob\n",
        "\n",
        "import numpy as np\n",
        "\n",
        "import tensorflow as tf\n",
        "from PIL import Image\n",
        "\n",
        "import matplotlib.pyplot as plt\n",
        "%matplotlib inline"
      ],
      "execution_count": 2,
      "outputs": []
    },
    {
      "cell_type": "code",
      "metadata": {
        "id": "vjwPoZrU_fgF",
        "colab": {
          "base_uri": "https://localhost:8080/"
        },
        "outputId": "b81f2de7-e0a6-444f-fe8d-428c107bdd26"
      },
      "source": [
        "!unzip -qq /content/drive/My\\ Drive/'test'/'mnist_png.zip'\n"
      ],
      "execution_count": 28,
      "outputs": [
        {
          "output_type": "stream",
          "text": [
            "replace mnist_png/testing/0/10.png? [y]es, [n]o, [A]ll, [N]one, [r]ename: "
          ],
          "name": "stdout"
        }
      ]
    },
    {
      "cell_type": "code",
      "metadata": {
        "colab": {
          "base_uri": "https://localhost:8080/",
          "height": 35
        },
        "id": "fRpUEN1V3nR9",
        "outputId": "2c020dd2-1596-44ce-bdf3-cf7bd6d7ff0b"
      },
      "source": [
        "os.getcwd()"
      ],
      "execution_count": 30,
      "outputs": [
        {
          "output_type": "execute_result",
          "data": {
            "application/vnd.google.colaboratory.intrinsic+json": {
              "type": "string"
            },
            "text/plain": [
              "'/content'"
            ]
          },
          "metadata": {
            "tags": []
          },
          "execution_count": 30
        }
      ]
    },
    {
      "cell_type": "code",
      "metadata": {
        "id": "UGxJX40l_fgK",
        "colab": {
          "base_uri": "https://localhost:8080/"
        },
        "outputId": "38ed5225-31db-4e9b-eebe-98568245ee33"
      },
      "source": [
        "os.listdir('mnist_png/training/0/')"
      ],
      "execution_count": 32,
      "outputs": [
        {
          "output_type": "execute_result",
          "data": {
            "text/plain": [
              "['33464.png',\n",
              " '20681.png',\n",
              " '46430.png',\n",
              " '39801.png',\n",
              " '53189.png',\n",
              " '37917.png',\n",
              " '12741.png',\n",
              " '17725.png',\n",
              " '11683.png',\n",
              " '6496.png',\n",
              " '10348.png',\n",
              " '8019.png',\n",
              " '6502.png',\n",
              " '2327.png',\n",
              " '7062.png',\n",
              " '54967.png',\n",
              " '55745.png',\n",
              " '55259.png',\n",
              " '53678.png',\n",
              " '36569.png',\n",
              " '38057.png',\n",
              " '24367.png',\n",
              " '33066.png',\n",
              " '14325.png',\n",
              " '5932.png',\n",
              " '57882.png',\n",
              " '52921.png',\n",
              " '38574.png',\n",
              " '15795.png',\n",
              " '50511.png',\n",
              " '56984.png',\n",
              " '16749.png',\n",
              " '95.png',\n",
              " '2944.png',\n",
              " '9544.png',\n",
              " '25987.png',\n",
              " '56857.png',\n",
              " '57115.png',\n",
              " '11973.png',\n",
              " '38662.png',\n",
              " '54512.png',\n",
              " '36874.png',\n",
              " '21628.png',\n",
              " '17349.png',\n",
              " '57629.png',\n",
              " '15344.png',\n",
              " '46617.png',\n",
              " '50070.png',\n",
              " '18022.png',\n",
              " '7462.png',\n",
              " '9742.png',\n",
              " '32867.png',\n",
              " '26184.png',\n",
              " '42559.png',\n",
              " '49695.png',\n",
              " '46963.png',\n",
              " '14430.png',\n",
              " '30827.png',\n",
              " '29474.png',\n",
              " '29034.png',\n",
              " '52599.png',\n",
              " '47447.png',\n",
              " '51024.png',\n",
              " '48815.png',\n",
              " '13135.png',\n",
              " '5144.png',\n",
              " '8349.png',\n",
              " '36894.png',\n",
              " '44326.png',\n",
              " '14722.png',\n",
              " '11848.png',\n",
              " '15311.png',\n",
              " '34867.png',\n",
              " '36783.png',\n",
              " '51978.png',\n",
              " '18665.png',\n",
              " '7286.png',\n",
              " '16352.png',\n",
              " '2586.png',\n",
              " '3269.png',\n",
              " '23044.png',\n",
              " '50463.png',\n",
              " '36107.png',\n",
              " '25729.png',\n",
              " '58386.png',\n",
              " '27633.png',\n",
              " '12575.png',\n",
              " '42703.png',\n",
              " '38903.png',\n",
              " '47815.png',\n",
              " '59148.png',\n",
              " '37220.png',\n",
              " '23504.png',\n",
              " '15504.png',\n",
              " '50434.png',\n",
              " '23643.png',\n",
              " '59241.png',\n",
              " '37723.png',\n",
              " '54354.png',\n",
              " '39363.png',\n",
              " '10975.png',\n",
              " '50123.png',\n",
              " '25814.png',\n",
              " '53360.png',\n",
              " '16987.png',\n",
              " '1179.png',\n",
              " '55345.png',\n",
              " '18171.png',\n",
              " '6076.png',\n",
              " '52885.png',\n",
              " '11701.png',\n",
              " '14052.png',\n",
              " '47324.png',\n",
              " '22912.png',\n",
              " '22254.png',\n",
              " '29336.png',\n",
              " '5147.png',\n",
              " '29732.png',\n",
              " '19709.png',\n",
              " '27109.png',\n",
              " '8896.png',\n",
              " '35742.png',\n",
              " '43387.png',\n",
              " '55095.png',\n",
              " '58743.png',\n",
              " '48111.png',\n",
              " '9166.png',\n",
              " '18858.png',\n",
              " '40418.png',\n",
              " '45422.png',\n",
              " '1195.png',\n",
              " '14039.png',\n",
              " '35481.png',\n",
              " '2557.png',\n",
              " '38161.png',\n",
              " '16585.png',\n",
              " '38128.png',\n",
              " '12115.png',\n",
              " '34381.png',\n",
              " '12184.png',\n",
              " '59457.png',\n",
              " '22646.png',\n",
              " '11091.png',\n",
              " '19240.png',\n",
              " '46746.png',\n",
              " '35536.png',\n",
              " '7305.png',\n",
              " '51331.png',\n",
              " '18515.png',\n",
              " '53851.png',\n",
              " '23891.png',\n",
              " '17877.png',\n",
              " '56868.png',\n",
              " '39360.png',\n",
              " '28543.png',\n",
              " '41038.png',\n",
              " '29562.png',\n",
              " '34519.png',\n",
              " '25921.png',\n",
              " '27822.png',\n",
              " '47466.png',\n",
              " '27663.png',\n",
              " '36272.png',\n",
              " '34803.png',\n",
              " '41296.png',\n",
              " '51834.png',\n",
              " '23331.png',\n",
              " '12516.png',\n",
              " '15133.png',\n",
              " '56775.png',\n",
              " '23124.png',\n",
              " '14877.png',\n",
              " '33978.png',\n",
              " '44045.png',\n",
              " '13230.png',\n",
              " '24510.png',\n",
              " '30293.png',\n",
              " '53789.png',\n",
              " '8788.png',\n",
              " '3743.png',\n",
              " '48641.png',\n",
              " '34656.png',\n",
              " '30424.png',\n",
              " '28274.png',\n",
              " '49883.png',\n",
              " '43463.png',\n",
              " '32781.png',\n",
              " '23926.png',\n",
              " '5083.png',\n",
              " '49500.png',\n",
              " '19419.png',\n",
              " '47247.png',\n",
              " '30101.png',\n",
              " '29664.png',\n",
              " '1346.png',\n",
              " '37752.png',\n",
              " '46723.png',\n",
              " '33367.png',\n",
              " '15103.png',\n",
              " '58718.png',\n",
              " '11846.png',\n",
              " '46292.png',\n",
              " '51002.png',\n",
              " '56101.png',\n",
              " '42985.png',\n",
              " '52294.png',\n",
              " '34097.png',\n",
              " '45589.png',\n",
              " '40150.png',\n",
              " '3568.png',\n",
              " '36809.png',\n",
              " '7164.png',\n",
              " '9204.png',\n",
              " '49949.png',\n",
              " '50081.png',\n",
              " '9440.png',\n",
              " '39755.png',\n",
              " '25390.png',\n",
              " '19646.png',\n",
              " '31145.png',\n",
              " '14675.png',\n",
              " '41612.png',\n",
              " '50968.png',\n",
              " '3514.png',\n",
              " '30439.png',\n",
              " '33192.png',\n",
              " '16286.png',\n",
              " '33522.png',\n",
              " '21586.png',\n",
              " '29199.png',\n",
              " '28323.png',\n",
              " '46680.png',\n",
              " '36468.png',\n",
              " '25707.png',\n",
              " '21848.png',\n",
              " '58668.png',\n",
              " '17009.png',\n",
              " '29560.png',\n",
              " '44614.png',\n",
              " '37571.png',\n",
              " '10326.png',\n",
              " '26820.png',\n",
              " '51375.png',\n",
              " '30212.png',\n",
              " '59331.png',\n",
              " '17585.png',\n",
              " '57162.png',\n",
              " '59585.png',\n",
              " '4115.png',\n",
              " '29235.png',\n",
              " '38946.png',\n",
              " '33608.png',\n",
              " '33657.png',\n",
              " '10195.png',\n",
              " '11036.png',\n",
              " '51422.png',\n",
              " '48895.png',\n",
              " '45812.png',\n",
              " '49244.png',\n",
              " '48299.png',\n",
              " '54474.png',\n",
              " '43701.png',\n",
              " '49013.png',\n",
              " '49996.png',\n",
              " '40320.png',\n",
              " '9890.png',\n",
              " '35505.png',\n",
              " '33723.png',\n",
              " '45145.png',\n",
              " '7038.png',\n",
              " '639.png',\n",
              " '55631.png',\n",
              " '49075.png',\n",
              " '15530.png',\n",
              " '29420.png',\n",
              " '13545.png',\n",
              " '53339.png',\n",
              " '54812.png',\n",
              " '19325.png',\n",
              " '22987.png',\n",
              " '22270.png',\n",
              " '13729.png',\n",
              " '28896.png',\n",
              " '16817.png',\n",
              " '44159.png',\n",
              " '46868.png',\n",
              " '11559.png',\n",
              " '32388.png',\n",
              " '31369.png',\n",
              " '59337.png',\n",
              " '6615.png',\n",
              " '58102.png',\n",
              " '24861.png',\n",
              " '16217.png',\n",
              " '52204.png',\n",
              " '36431.png',\n",
              " '25547.png',\n",
              " '29750.png',\n",
              " '41371.png',\n",
              " '47316.png',\n",
              " '13822.png',\n",
              " '45384.png',\n",
              " '27114.png',\n",
              " '3490.png',\n",
              " '41338.png',\n",
              " '56347.png',\n",
              " '21299.png',\n",
              " '36620.png',\n",
              " '39156.png',\n",
              " '2890.png',\n",
              " '2112.png',\n",
              " '18208.png',\n",
              " '17293.png',\n",
              " '1798.png',\n",
              " '15237.png',\n",
              " '51758.png',\n",
              " '13726.png',\n",
              " '11354.png',\n",
              " '36524.png',\n",
              " '13155.png',\n",
              " '48677.png',\n",
              " '3603.png',\n",
              " '31497.png',\n",
              " '38483.png',\n",
              " '18909.png',\n",
              " '8273.png',\n",
              " '2746.png',\n",
              " '5327.png',\n",
              " '8449.png',\n",
              " '5608.png',\n",
              " '47693.png',\n",
              " '29677.png',\n",
              " '39503.png',\n",
              " '24440.png',\n",
              " '39992.png',\n",
              " '16563.png',\n",
              " '37946.png',\n",
              " '4911.png',\n",
              " '54012.png',\n",
              " '16402.png',\n",
              " '25754.png',\n",
              " '63.png',\n",
              " '13450.png',\n",
              " '30127.png',\n",
              " '28151.png',\n",
              " '12662.png',\n",
              " '37452.png',\n",
              " '53432.png',\n",
              " '8812.png',\n",
              " '28428.png',\n",
              " '19588.png',\n",
              " '37079.png',\n",
              " '39326.png',\n",
              " '55986.png',\n",
              " '23009.png',\n",
              " '49989.png',\n",
              " '54804.png',\n",
              " '33238.png',\n",
              " '19360.png',\n",
              " '41819.png',\n",
              " '17941.png',\n",
              " '39029.png',\n",
              " '58694.png',\n",
              " '4027.png',\n",
              " '5194.png',\n",
              " '11636.png',\n",
              " '22978.png',\n",
              " '41265.png',\n",
              " '38461.png',\n",
              " '24892.png',\n",
              " '13807.png',\n",
              " '54459.png',\n",
              " '55251.png',\n",
              " '9101.png',\n",
              " '3049.png',\n",
              " '45823.png',\n",
              " '37758.png',\n",
              " '39859.png',\n",
              " '52409.png',\n",
              " '18278.png',\n",
              " '17452.png',\n",
              " '45475.png',\n",
              " '23773.png',\n",
              " '58356.png',\n",
              " '21308.png',\n",
              " '11541.png',\n",
              " '9505.png',\n",
              " '13926.png',\n",
              " '54832.png',\n",
              " '6648.png',\n",
              " '20801.png',\n",
              " '58768.png',\n",
              " '32062.png',\n",
              " '6973.png',\n",
              " '5844.png',\n",
              " '22159.png',\n",
              " '24444.png',\n",
              " '44629.png',\n",
              " '39758.png',\n",
              " '31020.png',\n",
              " '33442.png',\n",
              " '43366.png',\n",
              " '18295.png',\n",
              " '39746.png',\n",
              " '53014.png',\n",
              " '39220.png',\n",
              " '45058.png',\n",
              " '38055.png',\n",
              " '56158.png',\n",
              " '20602.png',\n",
              " '26881.png',\n",
              " '44313.png',\n",
              " '59165.png',\n",
              " '49151.png',\n",
              " '59541.png',\n",
              " '48168.png',\n",
              " '24629.png',\n",
              " '42448.png',\n",
              " '21903.png',\n",
              " '31263.png',\n",
              " '5353.png',\n",
              " '10230.png',\n",
              " '18743.png',\n",
              " '39233.png',\n",
              " '59901.png',\n",
              " '5266.png',\n",
              " '10242.png',\n",
              " '4453.png',\n",
              " '22640.png',\n",
              " '20088.png',\n",
              " '43088.png',\n",
              " '44029.png',\n",
              " '11780.png',\n",
              " '33392.png',\n",
              " '20731.png',\n",
              " '26117.png',\n",
              " '41447.png',\n",
              " '18424.png',\n",
              " '25022.png',\n",
              " '2709.png',\n",
              " '45513.png',\n",
              " '55275.png',\n",
              " '34457.png',\n",
              " '55398.png',\n",
              " '21191.png',\n",
              " '40760.png',\n",
              " '11654.png',\n",
              " '49197.png',\n",
              " '37714.png',\n",
              " '46412.png',\n",
              " '36447.png',\n",
              " '52821.png',\n",
              " '17187.png',\n",
              " '15759.png',\n",
              " '6768.png',\n",
              " '33078.png',\n",
              " '8110.png',\n",
              " '34731.png',\n",
              " '15814.png',\n",
              " '22874.png',\n",
              " '11597.png',\n",
              " '42217.png',\n",
              " '1107.png',\n",
              " '33739.png',\n",
              " '40649.png',\n",
              " '41837.png',\n",
              " '17741.png',\n",
              " '4289.png',\n",
              " '35217.png',\n",
              " '58170.png',\n",
              " '53894.png',\n",
              " '52625.png',\n",
              " '42324.png',\n",
              " '6001.png',\n",
              " '435.png',\n",
              " '31695.png',\n",
              " '22954.png',\n",
              " '30156.png',\n",
              " '42795.png',\n",
              " '43932.png',\n",
              " '36414.png',\n",
              " '50542.png',\n",
              " '16083.png',\n",
              " '38155.png',\n",
              " '41811.png',\n",
              " '7506.png',\n",
              " '40521.png',\n",
              " '20911.png',\n",
              " '41108.png',\n",
              " '5961.png',\n",
              " '45146.png',\n",
              " '55481.png',\n",
              " '51041.png',\n",
              " '57186.png',\n",
              " '34798.png',\n",
              " '13214.png',\n",
              " '19645.png',\n",
              " '42658.png',\n",
              " '34623.png',\n",
              " '49111.png',\n",
              " '47271.png',\n",
              " '39531.png',\n",
              " '20141.png',\n",
              " '35720.png',\n",
              " '57356.png',\n",
              " '2403.png',\n",
              " '4505.png',\n",
              " '26339.png',\n",
              " '16888.png',\n",
              " '17149.png',\n",
              " '9342.png',\n",
              " '48039.png',\n",
              " '45128.png',\n",
              " '1857.png',\n",
              " '11269.png',\n",
              " '49351.png',\n",
              " '34775.png',\n",
              " '15160.png',\n",
              " '41534.png',\n",
              " '35294.png',\n",
              " '39701.png',\n",
              " '47419.png',\n",
              " '55361.png',\n",
              " '17314.png',\n",
              " '55617.png',\n",
              " '50617.png',\n",
              " '20349.png',\n",
              " '12947.png',\n",
              " '21768.png',\n",
              " '26038.png',\n",
              " '18923.png',\n",
              " '35063.png',\n",
              " '16758.png',\n",
              " '52354.png',\n",
              " '4415.png',\n",
              " '45126.png',\n",
              " '2806.png',\n",
              " '25065.png',\n",
              " '41158.png',\n",
              " '22364.png',\n",
              " '56236.png',\n",
              " '45042.png',\n",
              " '16595.png',\n",
              " '24188.png',\n",
              " '69.png',\n",
              " '33363.png',\n",
              " '18137.png',\n",
              " '35982.png',\n",
              " '709.png',\n",
              " '19082.png',\n",
              " '54620.png',\n",
              " '27380.png',\n",
              " '42111.png',\n",
              " '58265.png',\n",
              " '16540.png',\n",
              " '3888.png',\n",
              " '36251.png',\n",
              " '58038.png',\n",
              " '44268.png',\n",
              " '40428.png',\n",
              " '13459.png',\n",
              " '7325.png',\n",
              " '33534.png',\n",
              " '52797.png',\n",
              " '41856.png',\n",
              " '51045.png',\n",
              " '37653.png',\n",
              " '43778.png',\n",
              " '9215.png',\n",
              " '38289.png',\n",
              " '34358.png',\n",
              " '35667.png',\n",
              " '56397.png',\n",
              " '39898.png',\n",
              " '44619.png',\n",
              " '29283.png',\n",
              " '13233.png',\n",
              " '59704.png',\n",
              " '1310.png',\n",
              " '58285.png',\n",
              " '9677.png',\n",
              " '58110.png',\n",
              " '20481.png',\n",
              " '33673.png',\n",
              " '31173.png',\n",
              " '49800.png',\n",
              " '10265.png',\n",
              " '15946.png',\n",
              " '31490.png',\n",
              " '2935.png',\n",
              " '6446.png',\n",
              " '21526.png',\n",
              " '38364.png',\n",
              " '5585.png',\n",
              " '16085.png',\n",
              " '20827.png',\n",
              " '27735.png',\n",
              " '4340.png',\n",
              " '23454.png',\n",
              " '43216.png',\n",
              " '41252.png',\n",
              " '24072.png',\n",
              " '58353.png',\n",
              " '45682.png',\n",
              " '34305.png',\n",
              " '9985.png',\n",
              " '13117.png',\n",
              " '58738.png',\n",
              " '5187.png',\n",
              " '35473.png',\n",
              " '26620.png',\n",
              " '35320.png',\n",
              " '32778.png',\n",
              " '4527.png',\n",
              " '28414.png',\n",
              " '1152.png',\n",
              " '12666.png',\n",
              " '32207.png',\n",
              " '54939.png',\n",
              " '33945.png',\n",
              " '56755.png',\n",
              " '53932.png',\n",
              " '19543.png',\n",
              " '32130.png',\n",
              " '52716.png',\n",
              " '283.png',\n",
              " '45371.png',\n",
              " '18263.png',\n",
              " '29704.png',\n",
              " '52105.png',\n",
              " '23662.png',\n",
              " '2765.png',\n",
              " '32574.png',\n",
              " '42245.png',\n",
              " '27749.png',\n",
              " '43081.png',\n",
              " '31043.png',\n",
              " '3632.png',\n",
              " '33904.png',\n",
              " '28835.png',\n",
              " '39960.png',\n",
              " '36788.png',\n",
              " '36848.png',\n",
              " '21553.png',\n",
              " '12339.png',\n",
              " '53298.png',\n",
              " '20238.png',\n",
              " '36143.png',\n",
              " '46010.png',\n",
              " '7025.png',\n",
              " '28072.png',\n",
              " '30605.png',\n",
              " '54235.png',\n",
              " '50354.png',\n",
              " '7427.png',\n",
              " '41374.png',\n",
              " '12665.png',\n",
              " '21066.png',\n",
              " '39664.png',\n",
              " '42783.png',\n",
              " '38100.png',\n",
              " '10456.png',\n",
              " '37269.png',\n",
              " '44558.png',\n",
              " '14897.png',\n",
              " '37303.png',\n",
              " '32489.png',\n",
              " '50424.png',\n",
              " '33844.png',\n",
              " '53734.png',\n",
              " '40389.png',\n",
              " '8304.png',\n",
              " '44096.png',\n",
              " '7648.png',\n",
              " '11304.png',\n",
              " '57091.png',\n",
              " '45748.png',\n",
              " '33230.png',\n",
              " '31310.png',\n",
              " '10471.png',\n",
              " '5461.png',\n",
              " '26389.png',\n",
              " '37642.png',\n",
              " '54808.png',\n",
              " '30790.png',\n",
              " '51845.png',\n",
              " '22344.png',\n",
              " '8108.png',\n",
              " '3492.png',\n",
              " '5196.png',\n",
              " '51336.png',\n",
              " '9877.png',\n",
              " '56352.png',\n",
              " '24085.png',\n",
              " '1372.png',\n",
              " '45504.png',\n",
              " '7050.png',\n",
              " '49124.png',\n",
              " '43961.png',\n",
              " '6791.png',\n",
              " '37052.png',\n",
              " '2952.png',\n",
              " '55822.png',\n",
              " '19535.png',\n",
              " '47031.png',\n",
              " '6758.png',\n",
              " '34369.png',\n",
              " '42008.png',\n",
              " '4889.png',\n",
              " '296.png',\n",
              " '1578.png',\n",
              " '19209.png',\n",
              " '15120.png',\n",
              " '29438.png',\n",
              " '49872.png',\n",
              " '39856.png',\n",
              " '33703.png',\n",
              " '27332.png',\n",
              " '39055.png',\n",
              " '46871.png',\n",
              " '57912.png',\n",
              " '13335.png',\n",
              " '34016.png',\n",
              " '4488.png',\n",
              " '30473.png',\n",
              " '28457.png',\n",
              " '36031.png',\n",
              " '11807.png',\n",
              " '46962.png',\n",
              " '26990.png',\n",
              " '10705.png',\n",
              " '35302.png',\n",
              " '10849.png',\n",
              " '22378.png',\n",
              " '41857.png',\n",
              " '42091.png',\n",
              " '16423.png',\n",
              " '19547.png',\n",
              " '30849.png',\n",
              " '25584.png',\n",
              " '40586.png',\n",
              " '12765.png',\n",
              " '6603.png',\n",
              " '1678.png',\n",
              " '29056.png',\n",
              " '48059.png',\n",
              " '51122.png',\n",
              " '16412.png',\n",
              " '8096.png',\n",
              " '31445.png',\n",
              " '12180.png',\n",
              " '36476.png',\n",
              " '52323.png',\n",
              " '19686.png',\n",
              " '6968.png',\n",
              " '1489.png',\n",
              " '26979.png',\n",
              " '11791.png',\n",
              " '34416.png',\n",
              " '22603.png',\n",
              " '36269.png',\n",
              " '29934.png',\n",
              " '38543.png',\n",
              " '17534.png',\n",
              " '4106.png',\n",
              " '10645.png',\n",
              " '12927.png',\n",
              " '28755.png',\n",
              " '13769.png',\n",
              " '47476.png',\n",
              " '31199.png',\n",
              " '47599.png',\n",
              " '17106.png',\n",
              " '3906.png',\n",
              " '42349.png',\n",
              " '10861.png',\n",
              " '59143.png',\n",
              " '17411.png',\n",
              " '42045.png',\n",
              " '51999.png',\n",
              " '33647.png',\n",
              " '12144.png',\n",
              " '75.png',\n",
              " '22208.png',\n",
              " '50629.png',\n",
              " '24265.png',\n",
              " '1443.png',\n",
              " '41331.png',\n",
              " '2539.png',\n",
              " '57073.png',\n",
              " '40040.png',\n",
              " '24877.png',\n",
              " '55727.png',\n",
              " '4321.png',\n",
              " '52064.png',\n",
              " '16619.png',\n",
              " '21380.png',\n",
              " '8088.png',\n",
              " '36290.png',\n",
              " '57769.png',\n",
              " '54836.png',\n",
              " '27805.png',\n",
              " '26422.png',\n",
              " '51733.png',\n",
              " '40563.png',\n",
              " '34355.png',\n",
              " '11588.png',\n",
              " '52289.png',\n",
              " '15491.png',\n",
              " '53665.png',\n",
              " '24389.png',\n",
              " '44448.png',\n",
              " '19770.png',\n",
              " '33914.png',\n",
              " '37677.png',\n",
              " '28230.png',\n",
              " '18464.png',\n",
              " '59288.png',\n",
              " '14097.png',\n",
              " '26438.png',\n",
              " '14089.png',\n",
              " '51314.png',\n",
              " '41341.png',\n",
              " '32880.png',\n",
              " '14589.png',\n",
              " '47289.png',\n",
              " '15564.png',\n",
              " '12264.png',\n",
              " '33381.png',\n",
              " '35972.png',\n",
              " '49263.png',\n",
              " '54755.png',\n",
              " '48526.png',\n",
              " '43602.png',\n",
              " '42797.png',\n",
              " '21534.png',\n",
              " '26369.png',\n",
              " '26210.png',\n",
              " '40043.png',\n",
              " '43554.png',\n",
              " '58500.png',\n",
              " '39346.png',\n",
              " '48960.png',\n",
              " '59012.png',\n",
              " '26597.png',\n",
              " '38025.png',\n",
              " '16961.png',\n",
              " '25942.png',\n",
              " '596.png',\n",
              " '31116.png',\n",
              " '49281.png',\n",
              " '14461.png',\n",
              " '7709.png',\n",
              " '5228.png',\n",
              " '53937.png',\n",
              " '34514.png',\n",
              " '55890.png',\n",
              " '26256.png',\n",
              " '28016.png',\n",
              " '42084.png',\n",
              " '22749.png',\n",
              " '16415.png',\n",
              " '44862.png',\n",
              " '612.png',\n",
              " '35282.png',\n",
              " '31778.png',\n",
              " '21049.png',\n",
              " '25757.png',\n",
              " '11453.png',\n",
              " '38644.png',\n",
              " '29456.png',\n",
              " '38232.png',\n",
              " '24896.png',\n",
              " '26980.png',\n",
              " '25167.png',\n",
              " '26818.png',\n",
              " '22949.png',\n",
              " '458.png',\n",
              " '31350.png',\n",
              " '31857.png',\n",
              " '27931.png',\n",
              " '25694.png',\n",
              " '33163.png',\n",
              " '45515.png',\n",
              " '18878.png',\n",
              " '49815.png',\n",
              " '7129.png',\n",
              " '37377.png',\n",
              " '21350.png',\n",
              " '14319.png',\n",
              " '40844.png',\n",
              " '6593.png',\n",
              " '39050.png',\n",
              " '52928.png',\n",
              " '53173.png',\n",
              " '10240.png',\n",
              " '36163.png',\n",
              " '36304.png',\n",
              " '1712.png',\n",
              " '48295.png',\n",
              " '7552.png',\n",
              " '18273.png',\n",
              " '32789.png',\n",
              " '31165.png',\n",
              " '33003.png',\n",
              " '29148.png',\n",
              " '59103.png',\n",
              " '27050.png',\n",
              " '32273.png',\n",
              " '49774.png',\n",
              " '29409.png',\n",
              " '15542.png',\n",
              " '51466.png',\n",
              " '43549.png',\n",
              " '34999.png',\n",
              " '48920.png',\n",
              " '2897.png',\n",
              " '47167.png',\n",
              " '3461.png',\n",
              " '54349.png',\n",
              " '7409.png',\n",
              " '9820.png',\n",
              " '57202.png',\n",
              " '18650.png',\n",
              " '22048.png',\n",
              " '58108.png',\n",
              " '56954.png',\n",
              " '229.png',\n",
              " '52526.png',\n",
              " '51301.png',\n",
              " '18324.png',\n",
              " '40690.png',\n",
              " '8653.png',\n",
              " '28365.png',\n",
              " '13175.png',\n",
              " '5692.png',\n",
              " '57642.png',\n",
              " '22373.png',\n",
              " '29388.png',\n",
              " '13126.png',\n",
              " '3734.png',\n",
              " '54411.png',\n",
              " '20174.png',\n",
              " '48371.png',\n",
              " '14668.png',\n",
              " '29541.png',\n",
              " '41616.png',\n",
              " '38729.png',\n",
              " '10167.png',\n",
              " '26457.png',\n",
              " '44518.png',\n",
              " '1046.png',\n",
              " '52520.png',\n",
              " '49535.png',\n",
              " '59256.png',\n",
              " '6681.png',\n",
              " '46579.png',\n",
              " '55805.png',\n",
              " '46975.png',\n",
              " '10343.png',\n",
              " '41412.png',\n",
              " '28131.png',\n",
              " '4539.png',\n",
              " '20886.png',\n",
              " '31172.png',\n",
              " '43811.png',\n",
              " '53350.png',\n",
              " '29907.png',\n",
              " '45817.png',\n",
              " '57962.png',\n",
              " '21546.png',\n",
              " '10821.png',\n",
              " '3964.png',\n",
              " '43011.png',\n",
              " '17327.png',\n",
              " '49720.png',\n",
              " '45769.png',\n",
              " '1926.png',\n",
              " '22897.png',\n",
              " '46332.png',\n",
              " '21137.png',\n",
              " '43712.png',\n",
              " '13730.png',\n",
              " '44589.png',\n",
              " '54728.png',\n",
              " '46926.png',\n",
              " '11945.png',\n",
              " '56707.png',\n",
              " '35778.png',\n",
              " '2500.png',\n",
              " '46826.png',\n",
              " '28895.png',\n",
              " '59319.png',\n",
              " '32333.png',\n",
              " '12011.png',\n",
              " '18832.png',\n",
              " '29564.png',\n",
              " '43050.png',\n",
              " '3001.png',\n",
              " '42612.png',\n",
              " ...]"
            ]
          },
          "metadata": {
            "tags": []
          },
          "execution_count": 32
        }
      ]
    },
    {
      "cell_type": "code",
      "metadata": {
        "id": "oMaW48jd_fgN",
        "colab": {
          "base_uri": "https://localhost:8080/"
        },
        "outputId": "b7a4f7c6-61ad-4c3d-8954-669e9627e608"
      },
      "source": [
        "len(os.listdir('/content/mnist_png/training'))"
      ],
      "execution_count": 26,
      "outputs": [
        {
          "output_type": "execute_result",
          "data": {
            "text/plain": [
              "10"
            ]
          },
          "metadata": {
            "tags": []
          },
          "execution_count": 26
        }
      ]
    },
    {
      "cell_type": "code",
      "metadata": {
        "id": "vniJcpBwIL6P",
        "colab": {
          "base_uri": "https://localhost:8080/"
        },
        "outputId": "7f82883c-135e-416a-dd26-ec290dfd0531"
      },
      "source": [
        "glob('/content/mnist_png/training/*/*.png') #경로가 포함된 파일 이름을 리스트로 가져옴. 레이블 0에 속한 모든 이미지를 불러옵니다."
      ],
      "execution_count": 33,
      "outputs": [
        {
          "output_type": "execute_result",
          "data": {
            "text/plain": [
              "['/content/mnist_png/training/3/29304.png',\n",
              " '/content/mnist_png/training/3/33583.png',\n",
              " '/content/mnist_png/training/3/34407.png',\n",
              " '/content/mnist_png/training/3/8077.png',\n",
              " '/content/mnist_png/training/3/20356.png',\n",
              " '/content/mnist_png/training/3/59808.png',\n",
              " '/content/mnist_png/training/3/18343.png',\n",
              " '/content/mnist_png/training/3/7980.png',\n",
              " '/content/mnist_png/training/3/42210.png',\n",
              " '/content/mnist_png/training/3/54524.png',\n",
              " '/content/mnist_png/training/3/38245.png',\n",
              " '/content/mnist_png/training/3/37163.png',\n",
              " '/content/mnist_png/training/3/51934.png',\n",
              " '/content/mnist_png/training/3/33590.png',\n",
              " '/content/mnist_png/training/3/50726.png',\n",
              " '/content/mnist_png/training/3/31044.png',\n",
              " '/content/mnist_png/training/3/35162.png',\n",
              " '/content/mnist_png/training/3/19950.png',\n",
              " '/content/mnist_png/training/3/10031.png',\n",
              " '/content/mnist_png/training/3/27541.png',\n",
              " '/content/mnist_png/training/3/53252.png',\n",
              " '/content/mnist_png/training/3/1631.png',\n",
              " '/content/mnist_png/training/3/57149.png',\n",
              " '/content/mnist_png/training/3/17715.png',\n",
              " '/content/mnist_png/training/3/50680.png',\n",
              " '/content/mnist_png/training/3/31153.png',\n",
              " '/content/mnist_png/training/3/16530.png',\n",
              " '/content/mnist_png/training/3/39768.png',\n",
              " '/content/mnist_png/training/3/7878.png',\n",
              " '/content/mnist_png/training/3/38712.png',\n",
              " '/content/mnist_png/training/3/54285.png',\n",
              " '/content/mnist_png/training/3/51201.png',\n",
              " '/content/mnist_png/training/3/5702.png',\n",
              " '/content/mnist_png/training/3/57806.png',\n",
              " '/content/mnist_png/training/3/59529.png',\n",
              " '/content/mnist_png/training/3/10390.png',\n",
              " '/content/mnist_png/training/3/52545.png',\n",
              " '/content/mnist_png/training/3/32171.png',\n",
              " '/content/mnist_png/training/3/50300.png',\n",
              " '/content/mnist_png/training/3/6416.png',\n",
              " '/content/mnist_png/training/3/38399.png',\n",
              " '/content/mnist_png/training/3/20738.png',\n",
              " '/content/mnist_png/training/3/39445.png',\n",
              " '/content/mnist_png/training/3/20937.png',\n",
              " '/content/mnist_png/training/3/5923.png',\n",
              " '/content/mnist_png/training/3/21893.png',\n",
              " '/content/mnist_png/training/3/2531.png',\n",
              " '/content/mnist_png/training/3/1260.png',\n",
              " '/content/mnist_png/training/3/58612.png',\n",
              " '/content/mnist_png/training/3/43853.png',\n",
              " '/content/mnist_png/training/3/18375.png',\n",
              " '/content/mnist_png/training/3/5511.png',\n",
              " '/content/mnist_png/training/3/49450.png',\n",
              " '/content/mnist_png/training/3/28983.png',\n",
              " '/content/mnist_png/training/3/17496.png',\n",
              " '/content/mnist_png/training/3/731.png',\n",
              " '/content/mnist_png/training/3/43654.png',\n",
              " '/content/mnist_png/training/3/25284.png',\n",
              " '/content/mnist_png/training/3/18992.png',\n",
              " '/content/mnist_png/training/3/29357.png',\n",
              " '/content/mnist_png/training/3/19285.png',\n",
              " '/content/mnist_png/training/3/36018.png',\n",
              " '/content/mnist_png/training/3/17154.png',\n",
              " '/content/mnist_png/training/3/58558.png',\n",
              " '/content/mnist_png/training/3/10676.png',\n",
              " '/content/mnist_png/training/3/43573.png',\n",
              " '/content/mnist_png/training/3/52394.png',\n",
              " '/content/mnist_png/training/3/31395.png',\n",
              " '/content/mnist_png/training/3/53560.png',\n",
              " '/content/mnist_png/training/3/5088.png',\n",
              " '/content/mnist_png/training/3/55893.png',\n",
              " '/content/mnist_png/training/3/38089.png',\n",
              " '/content/mnist_png/training/3/14262.png',\n",
              " '/content/mnist_png/training/3/58602.png',\n",
              " '/content/mnist_png/training/3/46549.png',\n",
              " '/content/mnist_png/training/3/10144.png',\n",
              " '/content/mnist_png/training/3/41727.png',\n",
              " '/content/mnist_png/training/3/31748.png',\n",
              " '/content/mnist_png/training/3/5871.png',\n",
              " '/content/mnist_png/training/3/45150.png',\n",
              " '/content/mnist_png/training/3/28264.png',\n",
              " '/content/mnist_png/training/3/23119.png',\n",
              " '/content/mnist_png/training/3/10424.png',\n",
              " '/content/mnist_png/training/3/46279.png',\n",
              " '/content/mnist_png/training/3/11002.png',\n",
              " '/content/mnist_png/training/3/59322.png',\n",
              " '/content/mnist_png/training/3/45015.png',\n",
              " '/content/mnist_png/training/3/50317.png',\n",
              " '/content/mnist_png/training/3/40722.png',\n",
              " '/content/mnist_png/training/3/19015.png',\n",
              " '/content/mnist_png/training/3/46900.png',\n",
              " '/content/mnist_png/training/3/26625.png',\n",
              " '/content/mnist_png/training/3/19836.png',\n",
              " '/content/mnist_png/training/3/26644.png',\n",
              " '/content/mnist_png/training/3/38130.png',\n",
              " '/content/mnist_png/training/3/16311.png',\n",
              " '/content/mnist_png/training/3/18997.png',\n",
              " '/content/mnist_png/training/3/1737.png',\n",
              " '/content/mnist_png/training/3/33161.png',\n",
              " '/content/mnist_png/training/3/39798.png',\n",
              " '/content/mnist_png/training/3/16512.png',\n",
              " '/content/mnist_png/training/3/22307.png',\n",
              " '/content/mnist_png/training/3/50775.png',\n",
              " '/content/mnist_png/training/3/13836.png',\n",
              " '/content/mnist_png/training/3/9679.png',\n",
              " '/content/mnist_png/training/3/44408.png',\n",
              " '/content/mnist_png/training/3/54616.png',\n",
              " '/content/mnist_png/training/3/52636.png',\n",
              " '/content/mnist_png/training/3/45468.png',\n",
              " '/content/mnist_png/training/3/39814.png',\n",
              " '/content/mnist_png/training/3/8554.png',\n",
              " '/content/mnist_png/training/3/1312.png',\n",
              " '/content/mnist_png/training/3/46953.png',\n",
              " '/content/mnist_png/training/3/25586.png',\n",
              " '/content/mnist_png/training/3/37745.png',\n",
              " '/content/mnist_png/training/3/33351.png',\n",
              " '/content/mnist_png/training/3/23218.png',\n",
              " '/content/mnist_png/training/3/254.png',\n",
              " '/content/mnist_png/training/3/47950.png',\n",
              " '/content/mnist_png/training/3/2567.png',\n",
              " '/content/mnist_png/training/3/53447.png',\n",
              " '/content/mnist_png/training/3/49057.png',\n",
              " '/content/mnist_png/training/3/57264.png',\n",
              " '/content/mnist_png/training/3/23663.png',\n",
              " '/content/mnist_png/training/3/42186.png',\n",
              " '/content/mnist_png/training/3/26596.png',\n",
              " '/content/mnist_png/training/3/11781.png',\n",
              " '/content/mnist_png/training/3/203.png',\n",
              " '/content/mnist_png/training/3/37188.png',\n",
              " '/content/mnist_png/training/3/16743.png',\n",
              " '/content/mnist_png/training/3/40532.png',\n",
              " '/content/mnist_png/training/3/198.png',\n",
              " '/content/mnist_png/training/3/49938.png',\n",
              " '/content/mnist_png/training/3/38627.png',\n",
              " '/content/mnist_png/training/3/49294.png',\n",
              " '/content/mnist_png/training/3/55008.png',\n",
              " '/content/mnist_png/training/3/23634.png',\n",
              " '/content/mnist_png/training/3/49864.png',\n",
              " '/content/mnist_png/training/3/41053.png',\n",
              " '/content/mnist_png/training/3/15101.png',\n",
              " '/content/mnist_png/training/3/13931.png',\n",
              " '/content/mnist_png/training/3/8498.png',\n",
              " '/content/mnist_png/training/3/24733.png',\n",
              " '/content/mnist_png/training/3/50658.png',\n",
              " '/content/mnist_png/training/3/33028.png',\n",
              " '/content/mnist_png/training/3/32653.png',\n",
              " '/content/mnist_png/training/3/27075.png',\n",
              " '/content/mnist_png/training/3/58237.png',\n",
              " '/content/mnist_png/training/3/27478.png',\n",
              " '/content/mnist_png/training/3/8227.png',\n",
              " '/content/mnist_png/training/3/34645.png',\n",
              " '/content/mnist_png/training/3/11221.png',\n",
              " '/content/mnist_png/training/3/18169.png',\n",
              " '/content/mnist_png/training/3/48480.png',\n",
              " '/content/mnist_png/training/3/13026.png',\n",
              " '/content/mnist_png/training/3/5359.png',\n",
              " '/content/mnist_png/training/3/23322.png',\n",
              " '/content/mnist_png/training/3/15322.png',\n",
              " '/content/mnist_png/training/3/32685.png',\n",
              " '/content/mnist_png/training/3/27160.png',\n",
              " '/content/mnist_png/training/3/54413.png',\n",
              " '/content/mnist_png/training/3/48735.png',\n",
              " '/content/mnist_png/training/3/45736.png',\n",
              " '/content/mnist_png/training/3/55566.png',\n",
              " '/content/mnist_png/training/3/30354.png',\n",
              " '/content/mnist_png/training/3/7976.png',\n",
              " '/content/mnist_png/training/3/37996.png',\n",
              " '/content/mnist_png/training/3/21795.png',\n",
              " '/content/mnist_png/training/3/41704.png',\n",
              " '/content/mnist_png/training/3/33009.png',\n",
              " '/content/mnist_png/training/3/28371.png',\n",
              " '/content/mnist_png/training/3/12265.png',\n",
              " '/content/mnist_png/training/3/32586.png',\n",
              " '/content/mnist_png/training/3/33229.png',\n",
              " '/content/mnist_png/training/3/6405.png',\n",
              " '/content/mnist_png/training/3/59100.png',\n",
              " '/content/mnist_png/training/3/13105.png',\n",
              " '/content/mnist_png/training/3/47676.png',\n",
              " '/content/mnist_png/training/3/35801.png',\n",
              " '/content/mnist_png/training/3/43067.png',\n",
              " '/content/mnist_png/training/3/215.png',\n",
              " '/content/mnist_png/training/3/9037.png',\n",
              " '/content/mnist_png/training/3/20203.png',\n",
              " '/content/mnist_png/training/3/22738.png',\n",
              " '/content/mnist_png/training/3/10887.png',\n",
              " '/content/mnist_png/training/3/17146.png',\n",
              " '/content/mnist_png/training/3/37166.png',\n",
              " '/content/mnist_png/training/3/15216.png',\n",
              " '/content/mnist_png/training/3/27783.png',\n",
              " '/content/mnist_png/training/3/57492.png',\n",
              " '/content/mnist_png/training/3/34190.png',\n",
              " '/content/mnist_png/training/3/31680.png',\n",
              " '/content/mnist_png/training/3/5193.png',\n",
              " '/content/mnist_png/training/3/49300.png',\n",
              " '/content/mnist_png/training/3/9706.png',\n",
              " '/content/mnist_png/training/3/16678.png',\n",
              " '/content/mnist_png/training/3/39904.png',\n",
              " '/content/mnist_png/training/3/49859.png',\n",
              " '/content/mnist_png/training/3/10450.png',\n",
              " '/content/mnist_png/training/3/40765.png',\n",
              " '/content/mnist_png/training/3/32193.png',\n",
              " '/content/mnist_png/training/3/23320.png',\n",
              " '/content/mnist_png/training/3/44385.png',\n",
              " '/content/mnist_png/training/3/5941.png',\n",
              " '/content/mnist_png/training/3/22770.png',\n",
              " '/content/mnist_png/training/3/42114.png',\n",
              " '/content/mnist_png/training/3/32398.png',\n",
              " '/content/mnist_png/training/3/21864.png',\n",
              " '/content/mnist_png/training/3/32234.png',\n",
              " '/content/mnist_png/training/3/21607.png',\n",
              " '/content/mnist_png/training/3/31925.png',\n",
              " '/content/mnist_png/training/3/37756.png',\n",
              " '/content/mnist_png/training/3/59886.png',\n",
              " '/content/mnist_png/training/3/42235.png',\n",
              " '/content/mnist_png/training/3/40655.png',\n",
              " '/content/mnist_png/training/3/12698.png',\n",
              " '/content/mnist_png/training/3/33444.png',\n",
              " '/content/mnist_png/training/3/56515.png',\n",
              " '/content/mnist_png/training/3/18380.png',\n",
              " '/content/mnist_png/training/3/27828.png',\n",
              " '/content/mnist_png/training/3/1594.png',\n",
              " '/content/mnist_png/training/3/42954.png',\n",
              " '/content/mnist_png/training/3/6959.png',\n",
              " '/content/mnist_png/training/3/14333.png',\n",
              " '/content/mnist_png/training/3/22155.png',\n",
              " '/content/mnist_png/training/3/56449.png',\n",
              " '/content/mnist_png/training/3/53803.png',\n",
              " '/content/mnist_png/training/3/22032.png',\n",
              " '/content/mnist_png/training/3/35058.png',\n",
              " '/content/mnist_png/training/3/27840.png',\n",
              " '/content/mnist_png/training/3/52773.png',\n",
              " '/content/mnist_png/training/3/15031.png',\n",
              " '/content/mnist_png/training/3/13773.png',\n",
              " '/content/mnist_png/training/3/9278.png',\n",
              " '/content/mnist_png/training/3/15003.png',\n",
              " '/content/mnist_png/training/3/34710.png',\n",
              " '/content/mnist_png/training/3/54406.png',\n",
              " '/content/mnist_png/training/3/12895.png',\n",
              " '/content/mnist_png/training/3/14107.png',\n",
              " '/content/mnist_png/training/3/149.png',\n",
              " '/content/mnist_png/training/3/37174.png',\n",
              " '/content/mnist_png/training/3/28075.png',\n",
              " '/content/mnist_png/training/3/43448.png',\n",
              " '/content/mnist_png/training/3/53246.png',\n",
              " '/content/mnist_png/training/3/49810.png',\n",
              " '/content/mnist_png/training/3/32799.png',\n",
              " '/content/mnist_png/training/3/10470.png',\n",
              " '/content/mnist_png/training/3/24780.png',\n",
              " '/content/mnist_png/training/3/13222.png',\n",
              " '/content/mnist_png/training/3/25209.png',\n",
              " '/content/mnist_png/training/3/46350.png',\n",
              " '/content/mnist_png/training/3/45508.png',\n",
              " '/content/mnist_png/training/3/22964.png',\n",
              " '/content/mnist_png/training/3/14236.png',\n",
              " '/content/mnist_png/training/3/36566.png',\n",
              " '/content/mnist_png/training/3/2179.png',\n",
              " '/content/mnist_png/training/3/2660.png',\n",
              " '/content/mnist_png/training/3/22474.png',\n",
              " '/content/mnist_png/training/3/31627.png',\n",
              " '/content/mnist_png/training/3/36301.png',\n",
              " '/content/mnist_png/training/3/59350.png',\n",
              " '/content/mnist_png/training/3/18646.png',\n",
              " '/content/mnist_png/training/3/25996.png',\n",
              " '/content/mnist_png/training/3/35542.png',\n",
              " '/content/mnist_png/training/3/17582.png',\n",
              " '/content/mnist_png/training/3/33240.png',\n",
              " '/content/mnist_png/training/3/11216.png',\n",
              " '/content/mnist_png/training/3/51635.png',\n",
              " '/content/mnist_png/training/3/40452.png',\n",
              " '/content/mnist_png/training/3/58660.png',\n",
              " '/content/mnist_png/training/3/50824.png',\n",
              " '/content/mnist_png/training/3/17947.png',\n",
              " '/content/mnist_png/training/3/12527.png',\n",
              " '/content/mnist_png/training/3/25536.png',\n",
              " '/content/mnist_png/training/3/39836.png',\n",
              " '/content/mnist_png/training/3/41565.png',\n",
              " '/content/mnist_png/training/3/29249.png',\n",
              " '/content/mnist_png/training/3/2011.png',\n",
              " '/content/mnist_png/training/3/2233.png',\n",
              " '/content/mnist_png/training/3/561.png',\n",
              " '/content/mnist_png/training/3/26013.png',\n",
              " '/content/mnist_png/training/3/5337.png',\n",
              " '/content/mnist_png/training/3/37124.png',\n",
              " '/content/mnist_png/training/3/58892.png',\n",
              " '/content/mnist_png/training/3/21993.png',\n",
              " '/content/mnist_png/training/3/47895.png',\n",
              " '/content/mnist_png/training/3/34893.png',\n",
              " '/content/mnist_png/training/3/29650.png',\n",
              " '/content/mnist_png/training/3/39961.png',\n",
              " '/content/mnist_png/training/3/43132.png',\n",
              " '/content/mnist_png/training/3/3920.png',\n",
              " '/content/mnist_png/training/3/44397.png',\n",
              " '/content/mnist_png/training/3/59001.png',\n",
              " '/content/mnist_png/training/3/8360.png',\n",
              " '/content/mnist_png/training/3/15681.png',\n",
              " '/content/mnist_png/training/3/11481.png',\n",
              " '/content/mnist_png/training/3/59735.png',\n",
              " '/content/mnist_png/training/3/56448.png',\n",
              " '/content/mnist_png/training/3/53209.png',\n",
              " '/content/mnist_png/training/3/21420.png',\n",
              " '/content/mnist_png/training/3/49435.png',\n",
              " '/content/mnist_png/training/3/46652.png',\n",
              " '/content/mnist_png/training/3/28299.png',\n",
              " '/content/mnist_png/training/3/21428.png',\n",
              " '/content/mnist_png/training/3/7803.png',\n",
              " '/content/mnist_png/training/3/8865.png',\n",
              " '/content/mnist_png/training/3/54481.png',\n",
              " '/content/mnist_png/training/3/42043.png',\n",
              " '/content/mnist_png/training/3/40301.png',\n",
              " '/content/mnist_png/training/3/25645.png',\n",
              " '/content/mnist_png/training/3/9004.png',\n",
              " '/content/mnist_png/training/3/25116.png',\n",
              " '/content/mnist_png/training/3/25191.png',\n",
              " '/content/mnist_png/training/3/48302.png',\n",
              " '/content/mnist_png/training/3/56975.png',\n",
              " '/content/mnist_png/training/3/28431.png',\n",
              " '/content/mnist_png/training/3/30740.png',\n",
              " '/content/mnist_png/training/3/52327.png',\n",
              " '/content/mnist_png/training/3/3171.png',\n",
              " '/content/mnist_png/training/3/41123.png',\n",
              " '/content/mnist_png/training/3/50735.png',\n",
              " '/content/mnist_png/training/3/37848.png',\n",
              " '/content/mnist_png/training/3/17580.png',\n",
              " '/content/mnist_png/training/3/4257.png',\n",
              " '/content/mnist_png/training/3/24299.png',\n",
              " '/content/mnist_png/training/3/30041.png',\n",
              " '/content/mnist_png/training/3/29701.png',\n",
              " '/content/mnist_png/training/3/2603.png',\n",
              " '/content/mnist_png/training/3/57171.png',\n",
              " '/content/mnist_png/training/3/25746.png',\n",
              " '/content/mnist_png/training/3/12035.png',\n",
              " '/content/mnist_png/training/3/10872.png',\n",
              " '/content/mnist_png/training/3/51655.png',\n",
              " '/content/mnist_png/training/3/39706.png',\n",
              " '/content/mnist_png/training/3/57952.png',\n",
              " '/content/mnist_png/training/3/15245.png',\n",
              " '/content/mnist_png/training/3/57879.png',\n",
              " '/content/mnist_png/training/3/55249.png',\n",
              " '/content/mnist_png/training/3/25641.png',\n",
              " '/content/mnist_png/training/3/13929.png',\n",
              " '/content/mnist_png/training/3/37517.png',\n",
              " '/content/mnist_png/training/3/11708.png',\n",
              " '/content/mnist_png/training/3/20649.png',\n",
              " '/content/mnist_png/training/3/15375.png',\n",
              " '/content/mnist_png/training/3/35869.png',\n",
              " '/content/mnist_png/training/3/40789.png',\n",
              " '/content/mnist_png/training/3/11511.png',\n",
              " '/content/mnist_png/training/3/7569.png',\n",
              " '/content/mnist_png/training/3/38811.png',\n",
              " '/content/mnist_png/training/3/24132.png',\n",
              " '/content/mnist_png/training/3/6892.png',\n",
              " '/content/mnist_png/training/3/27313.png',\n",
              " '/content/mnist_png/training/3/54655.png',\n",
              " '/content/mnist_png/training/3/16492.png',\n",
              " '/content/mnist_png/training/3/49985.png',\n",
              " '/content/mnist_png/training/3/46848.png',\n",
              " '/content/mnist_png/training/3/31178.png',\n",
              " '/content/mnist_png/training/3/5967.png',\n",
              " '/content/mnist_png/training/3/45801.png',\n",
              " '/content/mnist_png/training/3/39081.png',\n",
              " '/content/mnist_png/training/3/24870.png',\n",
              " '/content/mnist_png/training/3/2127.png',\n",
              " '/content/mnist_png/training/3/31183.png',\n",
              " '/content/mnist_png/training/3/17781.png',\n",
              " '/content/mnist_png/training/3/45995.png',\n",
              " '/content/mnist_png/training/3/31544.png',\n",
              " '/content/mnist_png/training/3/29972.png',\n",
              " '/content/mnist_png/training/3/28276.png',\n",
              " '/content/mnist_png/training/3/13134.png',\n",
              " '/content/mnist_png/training/3/53545.png',\n",
              " '/content/mnist_png/training/3/32422.png',\n",
              " '/content/mnist_png/training/3/1809.png',\n",
              " '/content/mnist_png/training/3/15547.png',\n",
              " '/content/mnist_png/training/3/3754.png',\n",
              " '/content/mnist_png/training/3/321.png',\n",
              " '/content/mnist_png/training/3/55482.png',\n",
              " '/content/mnist_png/training/3/53874.png',\n",
              " '/content/mnist_png/training/3/39770.png',\n",
              " '/content/mnist_png/training/3/42794.png',\n",
              " '/content/mnist_png/training/3/46592.png',\n",
              " '/content/mnist_png/training/3/7497.png',\n",
              " '/content/mnist_png/training/3/5207.png',\n",
              " '/content/mnist_png/training/3/42423.png',\n",
              " '/content/mnist_png/training/3/40307.png',\n",
              " '/content/mnist_png/training/3/57598.png',\n",
              " '/content/mnist_png/training/3/55831.png',\n",
              " '/content/mnist_png/training/3/7263.png',\n",
              " '/content/mnist_png/training/3/59828.png',\n",
              " '/content/mnist_png/training/3/23672.png',\n",
              " '/content/mnist_png/training/3/32379.png',\n",
              " '/content/mnist_png/training/3/13859.png',\n",
              " '/content/mnist_png/training/3/28995.png',\n",
              " '/content/mnist_png/training/3/29231.png',\n",
              " '/content/mnist_png/training/3/17082.png',\n",
              " '/content/mnist_png/training/3/43759.png',\n",
              " '/content/mnist_png/training/3/53570.png',\n",
              " '/content/mnist_png/training/3/29991.png',\n",
              " '/content/mnist_png/training/3/843.png',\n",
              " '/content/mnist_png/training/3/24481.png',\n",
              " '/content/mnist_png/training/3/9226.png',\n",
              " '/content/mnist_png/training/3/39696.png',\n",
              " '/content/mnist_png/training/3/52098.png',\n",
              " '/content/mnist_png/training/3/52607.png',\n",
              " '/content/mnist_png/training/3/12942.png',\n",
              " '/content/mnist_png/training/3/54126.png',\n",
              " '/content/mnist_png/training/3/857.png',\n",
              " '/content/mnist_png/training/3/14792.png',\n",
              " '/content/mnist_png/training/3/58812.png',\n",
              " '/content/mnist_png/training/3/24575.png',\n",
              " '/content/mnist_png/training/3/2820.png',\n",
              " '/content/mnist_png/training/3/53123.png',\n",
              " '/content/mnist_png/training/3/14529.png',\n",
              " '/content/mnist_png/training/3/48922.png',\n",
              " '/content/mnist_png/training/3/50803.png',\n",
              " '/content/mnist_png/training/3/58491.png',\n",
              " '/content/mnist_png/training/3/38341.png',\n",
              " '/content/mnist_png/training/3/12702.png',\n",
              " '/content/mnist_png/training/3/327.png',\n",
              " '/content/mnist_png/training/3/34526.png',\n",
              " '/content/mnist_png/training/3/37690.png',\n",
              " '/content/mnist_png/training/3/37082.png',\n",
              " '/content/mnist_png/training/3/41048.png',\n",
              " '/content/mnist_png/training/3/41624.png',\n",
              " '/content/mnist_png/training/3/36169.png',\n",
              " '/content/mnist_png/training/3/21261.png',\n",
              " '/content/mnist_png/training/3/11012.png',\n",
              " '/content/mnist_png/training/3/49147.png',\n",
              " '/content/mnist_png/training/3/26671.png',\n",
              " '/content/mnist_png/training/3/37361.png',\n",
              " '/content/mnist_png/training/3/20096.png',\n",
              " '/content/mnist_png/training/3/24899.png',\n",
              " '/content/mnist_png/training/3/17104.png',\n",
              " '/content/mnist_png/training/3/28204.png',\n",
              " '/content/mnist_png/training/3/22404.png',\n",
              " '/content/mnist_png/training/3/39520.png',\n",
              " '/content/mnist_png/training/3/14691.png',\n",
              " '/content/mnist_png/training/3/58065.png',\n",
              " '/content/mnist_png/training/3/50915.png',\n",
              " '/content/mnist_png/training/3/37085.png',\n",
              " '/content/mnist_png/training/3/48213.png',\n",
              " '/content/mnist_png/training/3/135.png',\n",
              " '/content/mnist_png/training/3/44684.png',\n",
              " '/content/mnist_png/training/3/9851.png',\n",
              " '/content/mnist_png/training/3/58822.png',\n",
              " '/content/mnist_png/training/3/14388.png',\n",
              " '/content/mnist_png/training/3/47123.png',\n",
              " '/content/mnist_png/training/3/4579.png',\n",
              " '/content/mnist_png/training/3/5086.png',\n",
              " '/content/mnist_png/training/3/2536.png',\n",
              " '/content/mnist_png/training/3/59512.png',\n",
              " '/content/mnist_png/training/3/28157.png',\n",
              " '/content/mnist_png/training/3/4988.png',\n",
              " '/content/mnist_png/training/3/25425.png',\n",
              " '/content/mnist_png/training/3/34203.png',\n",
              " '/content/mnist_png/training/3/37204.png',\n",
              " '/content/mnist_png/training/3/19333.png',\n",
              " '/content/mnist_png/training/3/33194.png',\n",
              " '/content/mnist_png/training/3/58097.png',\n",
              " '/content/mnist_png/training/3/56581.png',\n",
              " '/content/mnist_png/training/3/50717.png',\n",
              " '/content/mnist_png/training/3/42469.png',\n",
              " '/content/mnist_png/training/3/36671.png',\n",
              " '/content/mnist_png/training/3/52966.png',\n",
              " '/content/mnist_png/training/3/18155.png',\n",
              " '/content/mnist_png/training/3/549.png',\n",
              " '/content/mnist_png/training/3/37711.png',\n",
              " '/content/mnist_png/training/3/20664.png',\n",
              " '/content/mnist_png/training/3/54487.png',\n",
              " '/content/mnist_png/training/3/17710.png',\n",
              " '/content/mnist_png/training/3/31579.png',\n",
              " '/content/mnist_png/training/3/45312.png',\n",
              " '/content/mnist_png/training/3/20728.png',\n",
              " '/content/mnist_png/training/3/6595.png',\n",
              " '/content/mnist_png/training/3/12838.png',\n",
              " '/content/mnist_png/training/3/31868.png',\n",
              " '/content/mnist_png/training/3/1559.png',\n",
              " '/content/mnist_png/training/3/23488.png',\n",
              " '/content/mnist_png/training/3/29763.png',\n",
              " '/content/mnist_png/training/3/2818.png',\n",
              " '/content/mnist_png/training/3/16715.png',\n",
              " '/content/mnist_png/training/3/55705.png',\n",
              " '/content/mnist_png/training/3/6489.png',\n",
              " '/content/mnist_png/training/3/31564.png',\n",
              " '/content/mnist_png/training/3/13965.png',\n",
              " '/content/mnist_png/training/3/38321.png',\n",
              " '/content/mnist_png/training/3/5097.png',\n",
              " '/content/mnist_png/training/3/8475.png',\n",
              " '/content/mnist_png/training/3/41863.png',\n",
              " '/content/mnist_png/training/3/22408.png',\n",
              " '/content/mnist_png/training/3/18955.png',\n",
              " '/content/mnist_png/training/3/8816.png',\n",
              " '/content/mnist_png/training/3/49156.png',\n",
              " '/content/mnist_png/training/3/4792.png',\n",
              " '/content/mnist_png/training/3/13567.png',\n",
              " '/content/mnist_png/training/3/22318.png',\n",
              " '/content/mnist_png/training/3/27443.png',\n",
              " '/content/mnist_png/training/3/51686.png',\n",
              " '/content/mnist_png/training/3/57341.png',\n",
              " '/content/mnist_png/training/3/11788.png',\n",
              " '/content/mnist_png/training/3/21496.png',\n",
              " '/content/mnist_png/training/3/8537.png',\n",
              " '/content/mnist_png/training/3/495.png',\n",
              " '/content/mnist_png/training/3/51798.png',\n",
              " '/content/mnist_png/training/3/8052.png',\n",
              " '/content/mnist_png/training/3/29958.png',\n",
              " '/content/mnist_png/training/3/38732.png',\n",
              " '/content/mnist_png/training/3/11480.png',\n",
              " '/content/mnist_png/training/3/23156.png',\n",
              " '/content/mnist_png/training/3/58288.png',\n",
              " '/content/mnist_png/training/3/35333.png',\n",
              " '/content/mnist_png/training/3/33445.png',\n",
              " '/content/mnist_png/training/3/36604.png',\n",
              " '/content/mnist_png/training/3/6561.png',\n",
              " '/content/mnist_png/training/3/12924.png',\n",
              " '/content/mnist_png/training/3/56225.png',\n",
              " '/content/mnist_png/training/3/55432.png',\n",
              " '/content/mnist_png/training/3/4632.png',\n",
              " '/content/mnist_png/training/3/43373.png',\n",
              " '/content/mnist_png/training/3/44146.png',\n",
              " '/content/mnist_png/training/3/38549.png',\n",
              " '/content/mnist_png/training/3/45264.png',\n",
              " '/content/mnist_png/training/3/2735.png',\n",
              " '/content/mnist_png/training/3/44350.png',\n",
              " '/content/mnist_png/training/3/55715.png',\n",
              " '/content/mnist_png/training/3/966.png',\n",
              " '/content/mnist_png/training/3/32227.png',\n",
              " '/content/mnist_png/training/3/26267.png',\n",
              " '/content/mnist_png/training/3/1941.png',\n",
              " '/content/mnist_png/training/3/12490.png',\n",
              " '/content/mnist_png/training/3/41781.png',\n",
              " '/content/mnist_png/training/3/52350.png',\n",
              " '/content/mnist_png/training/3/54798.png',\n",
              " '/content/mnist_png/training/3/36488.png',\n",
              " '/content/mnist_png/training/3/31989.png',\n",
              " '/content/mnist_png/training/3/33970.png',\n",
              " '/content/mnist_png/training/3/20150.png',\n",
              " '/content/mnist_png/training/3/21149.png',\n",
              " '/content/mnist_png/training/3/35806.png',\n",
              " '/content/mnist_png/training/3/59070.png',\n",
              " '/content/mnist_png/training/3/28757.png',\n",
              " '/content/mnist_png/training/3/27279.png',\n",
              " '/content/mnist_png/training/3/4883.png',\n",
              " '/content/mnist_png/training/3/35688.png',\n",
              " '/content/mnist_png/training/3/5531.png',\n",
              " '/content/mnist_png/training/3/53889.png',\n",
              " '/content/mnist_png/training/3/16861.png',\n",
              " '/content/mnist_png/training/3/49054.png',\n",
              " '/content/mnist_png/training/3/54706.png',\n",
              " '/content/mnist_png/training/3/20697.png',\n",
              " '/content/mnist_png/training/3/3606.png',\n",
              " '/content/mnist_png/training/3/29610.png',\n",
              " '/content/mnist_png/training/3/36990.png',\n",
              " '/content/mnist_png/training/3/26880.png',\n",
              " '/content/mnist_png/training/3/5831.png',\n",
              " '/content/mnist_png/training/3/17389.png',\n",
              " '/content/mnist_png/training/3/56528.png',\n",
              " '/content/mnist_png/training/3/6291.png',\n",
              " '/content/mnist_png/training/3/20500.png',\n",
              " '/content/mnist_png/training/3/28391.png',\n",
              " '/content/mnist_png/training/3/38368.png',\n",
              " '/content/mnist_png/training/3/18059.png',\n",
              " '/content/mnist_png/training/3/13294.png',\n",
              " '/content/mnist_png/training/3/17864.png',\n",
              " '/content/mnist_png/training/3/26998.png',\n",
              " '/content/mnist_png/training/3/35890.png',\n",
              " '/content/mnist_png/training/3/12377.png',\n",
              " '/content/mnist_png/training/3/23759.png',\n",
              " '/content/mnist_png/training/3/45959.png',\n",
              " '/content/mnist_png/training/3/30468.png',\n",
              " '/content/mnist_png/training/3/35550.png',\n",
              " '/content/mnist_png/training/3/15080.png',\n",
              " '/content/mnist_png/training/3/25409.png',\n",
              " '/content/mnist_png/training/3/20072.png',\n",
              " '/content/mnist_png/training/3/35272.png',\n",
              " '/content/mnist_png/training/3/44181.png',\n",
              " '/content/mnist_png/training/3/53619.png',\n",
              " '/content/mnist_png/training/3/12503.png',\n",
              " '/content/mnist_png/training/3/42140.png',\n",
              " '/content/mnist_png/training/3/14533.png',\n",
              " '/content/mnist_png/training/3/58252.png',\n",
              " '/content/mnist_png/training/3/23144.png',\n",
              " '/content/mnist_png/training/3/57983.png',\n",
              " '/content/mnist_png/training/3/35984.png',\n",
              " '/content/mnist_png/training/3/35422.png',\n",
              " '/content/mnist_png/training/3/38927.png',\n",
              " '/content/mnist_png/training/3/36644.png',\n",
              " '/content/mnist_png/training/3/39066.png',\n",
              " '/content/mnist_png/training/3/22674.png',\n",
              " '/content/mnist_png/training/3/41110.png',\n",
              " '/content/mnist_png/training/3/12761.png',\n",
              " '/content/mnist_png/training/3/29464.png',\n",
              " '/content/mnist_png/training/3/54397.png',\n",
              " '/content/mnist_png/training/3/38485.png',\n",
              " '/content/mnist_png/training/3/52692.png',\n",
              " '/content/mnist_png/training/3/1599.png',\n",
              " '/content/mnist_png/training/3/13656.png',\n",
              " '/content/mnist_png/training/3/40691.png',\n",
              " '/content/mnist_png/training/3/2456.png',\n",
              " '/content/mnist_png/training/3/27640.png',\n",
              " '/content/mnist_png/training/3/30885.png',\n",
              " '/content/mnist_png/training/3/12225.png',\n",
              " '/content/mnist_png/training/3/56337.png',\n",
              " '/content/mnist_png/training/3/35504.png',\n",
              " '/content/mnist_png/training/3/36298.png',\n",
              " '/content/mnist_png/training/3/11570.png',\n",
              " '/content/mnist_png/training/3/57608.png',\n",
              " '/content/mnist_png/training/3/36732.png',\n",
              " '/content/mnist_png/training/3/45642.png',\n",
              " '/content/mnist_png/training/3/8012.png',\n",
              " '/content/mnist_png/training/3/42203.png',\n",
              " '/content/mnist_png/training/3/27690.png',\n",
              " '/content/mnist_png/training/3/51092.png',\n",
              " '/content/mnist_png/training/3/29844.png',\n",
              " '/content/mnist_png/training/3/21622.png',\n",
              " '/content/mnist_png/training/3/3452.png',\n",
              " '/content/mnist_png/training/3/12920.png',\n",
              " '/content/mnist_png/training/3/6420.png',\n",
              " '/content/mnist_png/training/3/12124.png',\n",
              " '/content/mnist_png/training/3/56475.png',\n",
              " '/content/mnist_png/training/3/5753.png',\n",
              " '/content/mnist_png/training/3/9192.png',\n",
              " '/content/mnist_png/training/3/35030.png',\n",
              " '/content/mnist_png/training/3/24099.png',\n",
              " '/content/mnist_png/training/3/8568.png',\n",
              " '/content/mnist_png/training/3/17330.png',\n",
              " '/content/mnist_png/training/3/44.png',\n",
              " '/content/mnist_png/training/3/10454.png',\n",
              " '/content/mnist_png/training/3/46595.png',\n",
              " '/content/mnist_png/training/3/26449.png',\n",
              " '/content/mnist_png/training/3/22708.png',\n",
              " '/content/mnist_png/training/3/45903.png',\n",
              " '/content/mnist_png/training/3/34556.png',\n",
              " '/content/mnist_png/training/3/3150.png',\n",
              " '/content/mnist_png/training/3/54724.png',\n",
              " '/content/mnist_png/training/3/27518.png',\n",
              " '/content/mnist_png/training/3/35649.png',\n",
              " '/content/mnist_png/training/3/10423.png',\n",
              " '/content/mnist_png/training/3/7288.png',\n",
              " '/content/mnist_png/training/3/7134.png',\n",
              " '/content/mnist_png/training/3/43255.png',\n",
              " '/content/mnist_png/training/3/10042.png',\n",
              " '/content/mnist_png/training/3/35582.png',\n",
              " '/content/mnist_png/training/3/22162.png',\n",
              " '/content/mnist_png/training/3/46821.png',\n",
              " '/content/mnist_png/training/3/33917.png',\n",
              " '/content/mnist_png/training/3/3460.png',\n",
              " '/content/mnist_png/training/3/44848.png',\n",
              " '/content/mnist_png/training/3/1529.png',\n",
              " '/content/mnist_png/training/3/42840.png',\n",
              " '/content/mnist_png/training/3/2207.png',\n",
              " '/content/mnist_png/training/3/1863.png',\n",
              " '/content/mnist_png/training/3/57612.png',\n",
              " '/content/mnist_png/training/3/33344.png',\n",
              " '/content/mnist_png/training/3/45822.png',\n",
              " '/content/mnist_png/training/3/52871.png',\n",
              " '/content/mnist_png/training/3/57864.png',\n",
              " '/content/mnist_png/training/3/30729.png',\n",
              " '/content/mnist_png/training/3/43717.png',\n",
              " '/content/mnist_png/training/3/33837.png',\n",
              " '/content/mnist_png/training/3/7156.png',\n",
              " '/content/mnist_png/training/3/8544.png',\n",
              " '/content/mnist_png/training/3/7209.png',\n",
              " '/content/mnist_png/training/3/24906.png',\n",
              " '/content/mnist_png/training/3/57004.png',\n",
              " '/content/mnist_png/training/3/53182.png',\n",
              " '/content/mnist_png/training/3/47684.png',\n",
              " '/content/mnist_png/training/3/13388.png',\n",
              " '/content/mnist_png/training/3/1348.png',\n",
              " '/content/mnist_png/training/3/24573.png',\n",
              " '/content/mnist_png/training/3/25509.png',\n",
              " '/content/mnist_png/training/3/23812.png',\n",
              " '/content/mnist_png/training/3/37746.png',\n",
              " '/content/mnist_png/training/3/34018.png',\n",
              " '/content/mnist_png/training/3/50975.png',\n",
              " '/content/mnist_png/training/3/10000.png',\n",
              " '/content/mnist_png/training/3/32900.png',\n",
              " '/content/mnist_png/training/3/25630.png',\n",
              " '/content/mnist_png/training/3/20121.png',\n",
              " '/content/mnist_png/training/3/25174.png',\n",
              " '/content/mnist_png/training/3/28957.png',\n",
              " '/content/mnist_png/training/3/14099.png',\n",
              " '/content/mnist_png/training/3/43070.png',\n",
              " '/content/mnist_png/training/3/8709.png',\n",
              " '/content/mnist_png/training/3/53758.png',\n",
              " '/content/mnist_png/training/3/2128.png',\n",
              " '/content/mnist_png/training/3/42199.png',\n",
              " '/content/mnist_png/training/3/44478.png',\n",
              " '/content/mnist_png/training/3/17175.png',\n",
              " '/content/mnist_png/training/3/5332.png',\n",
              " '/content/mnist_png/training/3/19445.png',\n",
              " '/content/mnist_png/training/3/2834.png',\n",
              " '/content/mnist_png/training/3/31825.png',\n",
              " '/content/mnist_png/training/3/46070.png',\n",
              " '/content/mnist_png/training/3/40427.png',\n",
              " '/content/mnist_png/training/3/45364.png',\n",
              " '/content/mnist_png/training/3/51695.png',\n",
              " '/content/mnist_png/training/3/9403.png',\n",
              " '/content/mnist_png/training/3/35366.png',\n",
              " '/content/mnist_png/training/3/49254.png',\n",
              " '/content/mnist_png/training/3/15533.png',\n",
              " '/content/mnist_png/training/3/34219.png',\n",
              " '/content/mnist_png/training/3/40745.png',\n",
              " '/content/mnist_png/training/3/51543.png',\n",
              " '/content/mnist_png/training/3/23563.png',\n",
              " '/content/mnist_png/training/3/57056.png',\n",
              " '/content/mnist_png/training/3/44837.png',\n",
              " '/content/mnist_png/training/3/17085.png',\n",
              " '/content/mnist_png/training/3/47481.png',\n",
              " '/content/mnist_png/training/3/34607.png',\n",
              " '/content/mnist_png/training/3/10282.png',\n",
              " '/content/mnist_png/training/3/3855.png',\n",
              " '/content/mnist_png/training/3/2339.png',\n",
              " '/content/mnist_png/training/3/52298.png',\n",
              " '/content/mnist_png/training/3/41171.png',\n",
              " '/content/mnist_png/training/3/27987.png',\n",
              " '/content/mnist_png/training/3/5434.png',\n",
              " '/content/mnist_png/training/3/29671.png',\n",
              " '/content/mnist_png/training/3/37789.png',\n",
              " '/content/mnist_png/training/3/9617.png',\n",
              " '/content/mnist_png/training/3/59416.png',\n",
              " '/content/mnist_png/training/3/29913.png',\n",
              " '/content/mnist_png/training/3/2726.png',\n",
              " '/content/mnist_png/training/3/25377.png',\n",
              " '/content/mnist_png/training/3/51918.png',\n",
              " '/content/mnist_png/training/3/30960.png',\n",
              " '/content/mnist_png/training/3/8163.png',\n",
              " '/content/mnist_png/training/3/21695.png',\n",
              " '/content/mnist_png/training/3/12437.png',\n",
              " '/content/mnist_png/training/3/43775.png',\n",
              " '/content/mnist_png/training/3/44440.png',\n",
              " '/content/mnist_png/training/3/7771.png',\n",
              " '/content/mnist_png/training/3/48701.png',\n",
              " '/content/mnist_png/training/3/49188.png',\n",
              " '/content/mnist_png/training/3/35113.png',\n",
              " '/content/mnist_png/training/3/8693.png',\n",
              " '/content/mnist_png/training/3/14548.png',\n",
              " '/content/mnist_png/training/3/19579.png',\n",
              " '/content/mnist_png/training/3/42951.png',\n",
              " '/content/mnist_png/training/3/20437.png',\n",
              " '/content/mnist_png/training/3/31345.png',\n",
              " '/content/mnist_png/training/3/22103.png',\n",
              " '/content/mnist_png/training/3/52038.png',\n",
              " '/content/mnist_png/training/3/48164.png',\n",
              " '/content/mnist_png/training/3/39617.png',\n",
              " '/content/mnist_png/training/3/46506.png',\n",
              " '/content/mnist_png/training/3/46465.png',\n",
              " '/content/mnist_png/training/3/56645.png',\n",
              " '/content/mnist_png/training/3/28119.png',\n",
              " '/content/mnist_png/training/3/23778.png',\n",
              " '/content/mnist_png/training/3/45088.png',\n",
              " '/content/mnist_png/training/3/30256.png',\n",
              " '/content/mnist_png/training/3/8800.png',\n",
              " '/content/mnist_png/training/3/8551.png',\n",
              " '/content/mnist_png/training/3/31274.png',\n",
              " '/content/mnist_png/training/3/36755.png',\n",
              " '/content/mnist_png/training/3/47192.png',\n",
              " '/content/mnist_png/training/3/43196.png',\n",
              " '/content/mnist_png/training/3/38867.png',\n",
              " '/content/mnist_png/training/3/53527.png',\n",
              " '/content/mnist_png/training/3/12983.png',\n",
              " '/content/mnist_png/training/3/30733.png',\n",
              " '/content/mnist_png/training/3/47594.png',\n",
              " '/content/mnist_png/training/3/50545.png',\n",
              " '/content/mnist_png/training/3/58656.png',\n",
              " '/content/mnist_png/training/3/59769.png',\n",
              " '/content/mnist_png/training/3/37703.png',\n",
              " '/content/mnist_png/training/3/14903.png',\n",
              " '/content/mnist_png/training/3/15246.png',\n",
              " '/content/mnist_png/training/3/59778.png',\n",
              " '/content/mnist_png/training/3/40202.png',\n",
              " '/content/mnist_png/training/3/48300.png',\n",
              " '/content/mnist_png/training/3/4223.png',\n",
              " '/content/mnist_png/training/3/19734.png',\n",
              " '/content/mnist_png/training/3/32284.png',\n",
              " '/content/mnist_png/training/3/25055.png',\n",
              " '/content/mnist_png/training/3/2960.png',\n",
              " '/content/mnist_png/training/3/30136.png',\n",
              " '/content/mnist_png/training/3/7336.png',\n",
              " '/content/mnist_png/training/3/51816.png',\n",
              " '/content/mnist_png/training/3/18299.png',\n",
              " '/content/mnist_png/training/3/11960.png',\n",
              " '/content/mnist_png/training/3/59815.png',\n",
              " '/content/mnist_png/training/3/41689.png',\n",
              " '/content/mnist_png/training/3/22522.png',\n",
              " '/content/mnist_png/training/3/46639.png',\n",
              " '/content/mnist_png/training/3/49763.png',\n",
              " '/content/mnist_png/training/3/38495.png',\n",
              " '/content/mnist_png/training/3/45727.png',\n",
              " '/content/mnist_png/training/3/43090.png',\n",
              " '/content/mnist_png/training/3/8729.png',\n",
              " '/content/mnist_png/training/3/5642.png',\n",
              " '/content/mnist_png/training/3/5736.png',\n",
              " '/content/mnist_png/training/3/45400.png',\n",
              " '/content/mnist_png/training/3/56207.png',\n",
              " '/content/mnist_png/training/3/1583.png',\n",
              " '/content/mnist_png/training/3/28107.png',\n",
              " '/content/mnist_png/training/3/19883.png',\n",
              " '/content/mnist_png/training/3/53385.png',\n",
              " '/content/mnist_png/training/3/7150.png',\n",
              " '/content/mnist_png/training/3/31775.png',\n",
              " '/content/mnist_png/training/3/44567.png',\n",
              " '/content/mnist_png/training/3/36917.png',\n",
              " '/content/mnist_png/training/3/25431.png',\n",
              " '/content/mnist_png/training/3/22322.png',\n",
              " '/content/mnist_png/training/3/29899.png',\n",
              " '/content/mnist_png/training/3/47975.png',\n",
              " '/content/mnist_png/training/3/31811.png',\n",
              " '/content/mnist_png/training/3/32885.png',\n",
              " '/content/mnist_png/training/3/57872.png',\n",
              " '/content/mnist_png/training/3/42476.png',\n",
              " '/content/mnist_png/training/3/45005.png',\n",
              " '/content/mnist_png/training/3/5493.png',\n",
              " '/content/mnist_png/training/3/3923.png',\n",
              " '/content/mnist_png/training/3/36471.png',\n",
              " '/content/mnist_png/training/3/45983.png',\n",
              " '/content/mnist_png/training/3/8765.png',\n",
              " '/content/mnist_png/training/3/40932.png',\n",
              " '/content/mnist_png/training/3/18280.png',\n",
              " '/content/mnist_png/training/3/7721.png',\n",
              " '/content/mnist_png/training/3/59383.png',\n",
              " '/content/mnist_png/training/3/42707.png',\n",
              " '/content/mnist_png/training/3/26050.png',\n",
              " '/content/mnist_png/training/3/45266.png',\n",
              " '/content/mnist_png/training/3/37540.png',\n",
              " '/content/mnist_png/training/3/2130.png',\n",
              " '/content/mnist_png/training/3/14383.png',\n",
              " '/content/mnist_png/training/3/41107.png',\n",
              " '/content/mnist_png/training/3/20426.png',\n",
              " '/content/mnist_png/training/3/16924.png',\n",
              " '/content/mnist_png/training/3/30774.png',\n",
              " '/content/mnist_png/training/3/59978.png',\n",
              " '/content/mnist_png/training/3/17333.png',\n",
              " '/content/mnist_png/training/3/12990.png',\n",
              " '/content/mnist_png/training/3/23977.png',\n",
              " '/content/mnist_png/training/3/6342.png',\n",
              " '/content/mnist_png/training/3/25601.png',\n",
              " '/content/mnist_png/training/3/4881.png',\n",
              " '/content/mnist_png/training/3/30644.png',\n",
              " '/content/mnist_png/training/3/7412.png',\n",
              " '/content/mnist_png/training/3/20756.png',\n",
              " '/content/mnist_png/training/3/3472.png',\n",
              " '/content/mnist_png/training/3/13560.png',\n",
              " '/content/mnist_png/training/3/45911.png',\n",
              " '/content/mnist_png/training/3/24095.png',\n",
              " '/content/mnist_png/training/3/7058.png',\n",
              " '/content/mnist_png/training/3/43031.png',\n",
              " '/content/mnist_png/training/3/38086.png',\n",
              " '/content/mnist_png/training/3/26222.png',\n",
              " '/content/mnist_png/training/3/59471.png',\n",
              " '/content/mnist_png/training/3/18739.png',\n",
              " '/content/mnist_png/training/3/21831.png',\n",
              " '/content/mnist_png/training/3/15045.png',\n",
              " '/content/mnist_png/training/3/36154.png',\n",
              " '/content/mnist_png/training/3/45408.png',\n",
              " '/content/mnist_png/training/3/38991.png',\n",
              " '/content/mnist_png/training/3/50960.png',\n",
              " '/content/mnist_png/training/3/33828.png',\n",
              " '/content/mnist_png/training/3/25007.png',\n",
              " '/content/mnist_png/training/3/12211.png',\n",
              " '/content/mnist_png/training/3/52160.png',\n",
              " '/content/mnist_png/training/3/39099.png',\n",
              " '/content/mnist_png/training/3/9610.png',\n",
              " '/content/mnist_png/training/3/32689.png',\n",
              " '/content/mnist_png/training/3/28778.png',\n",
              " '/content/mnist_png/training/3/54700.png',\n",
              " '/content/mnist_png/training/3/23101.png',\n",
              " '/content/mnist_png/training/3/14655.png',\n",
              " '/content/mnist_png/training/3/56324.png',\n",
              " '/content/mnist_png/training/3/50043.png',\n",
              " '/content/mnist_png/training/3/25671.png',\n",
              " '/content/mnist_png/training/3/24356.png',\n",
              " '/content/mnist_png/training/3/24667.png',\n",
              " '/content/mnist_png/training/3/629.png',\n",
              " '/content/mnist_png/training/3/28571.png',\n",
              " '/content/mnist_png/training/3/57300.png',\n",
              " '/content/mnist_png/training/3/32013.png',\n",
              " '/content/mnist_png/training/3/20561.png',\n",
              " '/content/mnist_png/training/3/9977.png',\n",
              " '/content/mnist_png/training/3/44749.png',\n",
              " '/content/mnist_png/training/3/2263.png',\n",
              " '/content/mnist_png/training/3/52022.png',\n",
              " '/content/mnist_png/training/3/5143.png',\n",
              " '/content/mnist_png/training/3/3332.png',\n",
              " '/content/mnist_png/training/3/58550.png',\n",
              " '/content/mnist_png/training/3/54077.png',\n",
              " '/content/mnist_png/training/3/47059.png',\n",
              " '/content/mnist_png/training/3/59408.png',\n",
              " '/content/mnist_png/training/3/4429.png',\n",
              " '/content/mnist_png/training/3/35498.png',\n",
              " '/content/mnist_png/training/3/50175.png',\n",
              " '/content/mnist_png/training/3/15540.png',\n",
              " '/content/mnist_png/training/3/43466.png',\n",
              " '/content/mnist_png/training/3/4836.png',\n",
              " '/content/mnist_png/training/3/42434.png',\n",
              " '/content/mnist_png/training/3/30760.png',\n",
              " '/content/mnist_png/training/3/4236.png',\n",
              " '/content/mnist_png/training/3/48667.png',\n",
              " '/content/mnist_png/training/3/30072.png',\n",
              " '/content/mnist_png/training/3/59352.png',\n",
              " '/content/mnist_png/training/3/9107.png',\n",
              " '/content/mnist_png/training/3/13706.png',\n",
              " '/content/mnist_png/training/3/49288.png',\n",
              " '/content/mnist_png/training/3/58449.png',\n",
              " '/content/mnist_png/training/3/41513.png',\n",
              " '/content/mnist_png/training/3/13906.png',\n",
              " '/content/mnist_png/training/3/14738.png',\n",
              " '/content/mnist_png/training/3/12329.png',\n",
              " '/content/mnist_png/training/3/39231.png',\n",
              " '/content/mnist_png/training/3/9420.png',\n",
              " '/content/mnist_png/training/3/8771.png',\n",
              " '/content/mnist_png/training/3/44211.png',\n",
              " '/content/mnist_png/training/3/36946.png',\n",
              " '/content/mnist_png/training/3/12583.png',\n",
              " '/content/mnist_png/training/3/59914.png',\n",
              " '/content/mnist_png/training/3/4491.png',\n",
              " '/content/mnist_png/training/3/17105.png',\n",
              " '/content/mnist_png/training/3/14704.png',\n",
              " '/content/mnist_png/training/3/55474.png',\n",
              " '/content/mnist_png/training/3/22182.png',\n",
              " '/content/mnist_png/training/3/45272.png',\n",
              " '/content/mnist_png/training/3/41994.png',\n",
              " '/content/mnist_png/training/3/37022.png',\n",
              " '/content/mnist_png/training/3/9904.png',\n",
              " '/content/mnist_png/training/3/59046.png',\n",
              " '/content/mnist_png/training/3/23490.png',\n",
              " '/content/mnist_png/training/3/47280.png',\n",
              " '/content/mnist_png/training/3/1870.png',\n",
              " '/content/mnist_png/training/3/20941.png',\n",
              " '/content/mnist_png/training/3/17242.png',\n",
              " '/content/mnist_png/training/3/2230.png',\n",
              " '/content/mnist_png/training/3/33432.png',\n",
              " '/content/mnist_png/training/3/54898.png',\n",
              " '/content/mnist_png/training/3/5458.png',\n",
              " '/content/mnist_png/training/3/15760.png',\n",
              " '/content/mnist_png/training/3/8241.png',\n",
              " '/content/mnist_png/training/3/5852.png',\n",
              " '/content/mnist_png/training/3/52435.png',\n",
              " '/content/mnist_png/training/3/5562.png',\n",
              " '/content/mnist_png/training/3/10330.png',\n",
              " '/content/mnist_png/training/3/47749.png',\n",
              " '/content/mnist_png/training/3/31249.png',\n",
              " '/content/mnist_png/training/3/58800.png',\n",
              " '/content/mnist_png/training/3/57771.png',\n",
              " '/content/mnist_png/training/3/11618.png',\n",
              " '/content/mnist_png/training/3/53493.png',\n",
              " '/content/mnist_png/training/3/34622.png',\n",
              " '/content/mnist_png/training/3/47533.png',\n",
              " '/content/mnist_png/training/3/31108.png',\n",
              " '/content/mnist_png/training/3/25222.png',\n",
              " '/content/mnist_png/training/3/20626.png',\n",
              " '/content/mnist_png/training/3/6427.png',\n",
              " '/content/mnist_png/training/3/23482.png',\n",
              " '/content/mnist_png/training/3/45336.png',\n",
              " '/content/mnist_png/training/3/19425.png',\n",
              " '/content/mnist_png/training/3/52590.png',\n",
              " '/content/mnist_png/training/3/52085.png',\n",
              " '/content/mnist_png/training/3/30093.png',\n",
              " '/content/mnist_png/training/3/23695.png',\n",
              " '/content/mnist_png/training/3/20326.png',\n",
              " '/content/mnist_png/training/3/58431.png',\n",
              " '/content/mnist_png/training/3/54301.png',\n",
              " '/content/mnist_png/training/3/20670.png',\n",
              " '/content/mnist_png/training/3/17274.png',\n",
              " '/content/mnist_png/training/3/19620.png',\n",
              " '/content/mnist_png/training/3/6299.png',\n",
              " '/content/mnist_png/training/3/57103.png',\n",
              " '/content/mnist_png/training/3/44058.png',\n",
              " '/content/mnist_png/training/3/21966.png',\n",
              " '/content/mnist_png/training/3/16649.png',\n",
              " '/content/mnist_png/training/3/31636.png',\n",
              " '/content/mnist_png/training/3/42804.png',\n",
              " '/content/mnist_png/training/3/6317.png',\n",
              " '/content/mnist_png/training/3/51578.png',\n",
              " '/content/mnist_png/training/3/10569.png',\n",
              " '/content/mnist_png/training/3/44546.png',\n",
              " '/content/mnist_png/training/3/36032.png',\n",
              " '/content/mnist_png/training/3/41653.png',\n",
              " '/content/mnist_png/training/3/26739.png',\n",
              " '/content/mnist_png/training/3/4101.png',\n",
              " '/content/mnist_png/training/3/41143.png',\n",
              " '/content/mnist_png/training/3/3323.png',\n",
              " '/content/mnist_png/training/3/20458.png',\n",
              " '/content/mnist_png/training/3/23860.png',\n",
              " '/content/mnist_png/training/3/856.png',\n",
              " '/content/mnist_png/training/3/30048.png',\n",
              " '/content/mnist_png/training/3/28444.png',\n",
              " '/content/mnist_png/training/3/15519.png',\n",
              " '/content/mnist_png/training/3/21673.png',\n",
              " '/content/mnist_png/training/3/20355.png',\n",
              " '/content/mnist_png/training/3/51463.png',\n",
              " '/content/mnist_png/training/3/20344.png',\n",
              " '/content/mnist_png/training/3/4628.png',\n",
              " '/content/mnist_png/training/3/35874.png',\n",
              " '/content/mnist_png/training/3/45260.png',\n",
              " '/content/mnist_png/training/3/50500.png',\n",
              " '/content/mnist_png/training/3/4121.png',\n",
              " '/content/mnist_png/training/3/53480.png',\n",
              " '/content/mnist_png/training/3/31032.png',\n",
              " '/content/mnist_png/training/3/5573.png',\n",
              " '/content/mnist_png/training/3/49821.png',\n",
              " ...]"
            ]
          },
          "metadata": {
            "tags": []
          },
          "execution_count": 33
        }
      ]
    },
    {
      "cell_type": "code",
      "metadata": {
        "id": "PeWTXYIEIW4z"
      },
      "source": [
        "data_paths = glob('/content/mnist_png/training/*/*.png')"
      ],
      "execution_count": 34,
      "outputs": []
    },
    {
      "cell_type": "code",
      "metadata": {
        "id": "PG8_8XxTIWxY",
        "colab": {
          "base_uri": "https://localhost:8080/",
          "height": 35
        },
        "outputId": "508db89d-b3fa-463b-986b-69fdfdc3af9c"
      },
      "source": [
        "data_paths[-1] # 잘 불러왔는지 확인"
      ],
      "execution_count": 36,
      "outputs": [
        {
          "output_type": "execute_result",
          "data": {
            "application/vnd.google.colaboratory.intrinsic+json": {
              "type": "string"
            },
            "text/plain": [
              "'/content/mnist_png/training/6/32143.png'"
            ]
          },
          "metadata": {
            "tags": []
          },
          "execution_count": 36
        }
      ]
    },
    {
      "cell_type": "code",
      "metadata": {
        "id": "z5NNfTSYJ0OF",
        "colab": {
          "base_uri": "https://localhost:8080/"
        },
        "outputId": "07f0230a-ed30-4fb9-b36d-ed4cb1c85774"
      },
      "source": [
        "len(data_paths)"
      ],
      "execution_count": 35,
      "outputs": [
        {
          "output_type": "execute_result",
          "data": {
            "text/plain": [
              "60000"
            ]
          },
          "metadata": {
            "tags": []
          },
          "execution_count": 35
        }
      ]
    },
    {
      "cell_type": "code",
      "metadata": {
        "id": "hcjbsP-AJ42D"
      },
      "source": [
        "path = data_paths[0]  # 예제로 사용할 데이터 추출"
      ],
      "execution_count": 37,
      "outputs": []
    },
    {
      "cell_type": "code",
      "metadata": {
        "id": "tQY5yEkmJ7oR",
        "colab": {
          "base_uri": "https://localhost:8080/",
          "height": 35
        },
        "outputId": "925198a6-3329-401c-daf1-21d94c81398c"
      },
      "source": [
        "path"
      ],
      "execution_count": 38,
      "outputs": [
        {
          "output_type": "execute_result",
          "data": {
            "application/vnd.google.colaboratory.intrinsic+json": {
              "type": "string"
            },
            "text/plain": [
              "'/content/mnist_png/training/3/29304.png'"
            ]
          },
          "metadata": {
            "tags": []
          },
          "execution_count": 38
        }
      ]
    },
    {
      "cell_type": "markdown",
      "metadata": {
        "id": "nd1i_QWe_fgK"
      },
      "source": [
        "# 데이터 분석 (MNIST)"
      ]
    },
    {
      "cell_type": "code",
      "metadata": {
        "id": "ubSHKgni_fgQ",
        "colab": {
          "base_uri": "https://localhost:8080/"
        },
        "outputId": "21236130-b22b-4c53-c5f4-ea33f0cbf772"
      },
      "source": [
        "os.listdir('/content/mnist_png/training')"
      ],
      "execution_count": 39,
      "outputs": [
        {
          "output_type": "execute_result",
          "data": {
            "text/plain": [
              "['3', '7', '4', '5', '2', '8', '0', '9', '1', '6']"
            ]
          },
          "metadata": {
            "tags": []
          },
          "execution_count": 39
        }
      ]
    },
    {
      "cell_type": "code",
      "metadata": {
        "colab": {
          "base_uri": "https://localhost:8080/"
        },
        "id": "mZRnpDbN6ZdK",
        "outputId": "a5eb2332-fc8e-4ae6-daf4-7c718bf4ed25"
      },
      "source": [
        "len(os.listdir('/content/mnist_png/training'))"
      ],
      "execution_count": 41,
      "outputs": [
        {
          "output_type": "execute_result",
          "data": {
            "text/plain": [
              "10"
            ]
          },
          "metadata": {
            "tags": []
          },
          "execution_count": 41
        }
      ]
    },
    {
      "cell_type": "code",
      "metadata": {
        "id": "gXyS1v6rK2sP",
        "colab": {
          "base_uri": "https://localhost:8080/"
        },
        "outputId": "8c95f977-e96a-4e94-8b55-2c7a8756b616"
      },
      "source": [
        "label_nums = os.listdir('/content/mnist_png/training')\r\n",
        "label_nums"
      ],
      "execution_count": 43,
      "outputs": [
        {
          "output_type": "execute_result",
          "data": {
            "text/plain": [
              "['3', '7', '4', '5', '2', '8', '0', '9', '1', '6']"
            ]
          },
          "metadata": {
            "tags": []
          },
          "execution_count": 43
        }
      ]
    },
    {
      "cell_type": "markdown",
      "metadata": {
        "id": "0XNw2VlQ_fgS"
      },
      "source": [
        "Label 0의 데이터 갯수 확인"
      ]
    },
    {
      "cell_type": "code",
      "metadata": {
        "id": "Hh9kt2sEK5FO",
        "colab": {
          "base_uri": "https://localhost:8080/"
        },
        "outputId": "2d988eb3-e81b-4852-e8ab-19e3c01285dc"
      },
      "source": [
        "len(label_nums)"
      ],
      "execution_count": 44,
      "outputs": [
        {
          "output_type": "execute_result",
          "data": {
            "text/plain": [
              "10"
            ]
          },
          "metadata": {
            "tags": []
          },
          "execution_count": 44
        }
      ]
    },
    {
      "cell_type": "markdown",
      "metadata": {
        "id": "5R2MUl-gL5Hi"
      },
      "source": [
        "## **데이터별 갯수 비교**"
      ]
    },
    {
      "cell_type": "code",
      "metadata": {
        "colab": {
          "base_uri": "https://localhost:8080/",
          "height": 35
        },
        "id": "RMUl4_r98e9_",
        "outputId": "3af9de16-5b61-4c69-bc64-5680b03dc759"
      },
      "source": [
        "lbl_n = label_nums[0]\r\n",
        "'/content/mnist_png/training/'+lbl_n"
      ],
      "execution_count": 45,
      "outputs": [
        {
          "output_type": "execute_result",
          "data": {
            "application/vnd.google.colaboratory.intrinsic+json": {
              "type": "string"
            },
            "text/plain": [
              "'/content/mnist_png/training/3'"
            ]
          },
          "metadata": {
            "tags": []
          },
          "execution_count": 45
        }
      ]
    },
    {
      "cell_type": "code",
      "metadata": {
        "id": "kFH-_FF5_fgS"
      },
      "source": [
        "nums_dataset = []\n",
        "\n",
        "for lbl_n in label_nums:\n",
        "    data_per_class = os.listdir('/content/mnist_png/training/' + lbl_n)\n",
        "    nums_dataset.append(len(data_per_class))"
      ],
      "execution_count": 48,
      "outputs": []
    },
    {
      "cell_type": "code",
      "metadata": {
        "colab": {
          "base_uri": "https://localhost:8080/"
        },
        "id": "o29V95jL861h",
        "outputId": "a8650c52-2d3d-436d-8566-56bd8ecded4c"
      },
      "source": [
        "label_nums"
      ],
      "execution_count": 50,
      "outputs": [
        {
          "output_type": "execute_result",
          "data": {
            "text/plain": [
              "['3', '7', '4', '5', '2', '8', '0', '9', '1', '6']"
            ]
          },
          "metadata": {
            "tags": []
          },
          "execution_count": 50
        }
      ]
    },
    {
      "cell_type": "code",
      "metadata": {
        "id": "tYvSlGdULbcu",
        "colab": {
          "base_uri": "https://localhost:8080/"
        },
        "outputId": "64f564ef-eaa5-4a66-ceff-52a412ef93d4"
      },
      "source": [
        "nums_dataset"
      ],
      "execution_count": 49,
      "outputs": [
        {
          "output_type": "execute_result",
          "data": {
            "text/plain": [
              "[6131, 6265, 5842, 5421, 5958, 5851, 5923, 5949, 6742, 5918]"
            ]
          },
          "metadata": {
            "tags": []
          },
          "execution_count": 49
        }
      ]
    },
    {
      "cell_type": "code",
      "metadata": {
        "id": "dx3oUTH3LuDD",
        "colab": {
          "base_uri": "https://localhost:8080/",
          "height": 298
        },
        "outputId": "ea6cd5a4-62b6-411e-f401-c7986520aa4e"
      },
      "source": [
        "plt.bar(label_nums, nums_dataset)\n",
        "plt.title('Number of Dataset per class')"
      ],
      "execution_count": 51,
      "outputs": [
        {
          "output_type": "execute_result",
          "data": {
            "text/plain": [
              "Text(0.5, 1.0, 'Number of Dataset per class')"
            ]
          },
          "metadata": {
            "tags": []
          },
          "execution_count": 51
        },
        {
          "output_type": "display_data",
          "data": {
            "image/png": "[encoded data removed]",
            "text/plain": [
              "<Figure size 432x288 with 1 Axes>"
            ]
          },
          "metadata": {
            "tags": [],
            "needs_background": "light"
          }
        }
      ]
    },
    {
      "cell_type": "markdown",
      "metadata": {
        "id": "oasu_N4M_fga"
      },
      "source": [
        "# Pillow로 열기"
      ]
    },
    {
      "cell_type": "code",
      "metadata": {
        "colab": {
          "base_uri": "https://localhost:8080/",
          "height": 35
        },
        "id": "VyXwJd7w9M1o",
        "outputId": "2567ac2d-e6fa-4e66-b622-1a23574c7c31"
      },
      "source": [
        "path # 정렬하기 전에 추출된 예시데이터이기 때문에 강의에서는 0/1.PNG 이지만, 여기서는 임의추출된 3/29304.PNG  .- 실습에 문제 없음."
      ],
      "execution_count": 52,
      "outputs": [
        {
          "output_type": "execute_result",
          "data": {
            "application/vnd.google.colaboratory.intrinsic+json": {
              "type": "string"
            },
            "text/plain": [
              "'/content/mnist_png/training/3/29304.png'"
            ]
          },
          "metadata": {
            "tags": []
          },
          "execution_count": 52
        }
      ]
    },
    {
      "cell_type": "code",
      "metadata": {
        "id": "BNvbhvOV_fgb"
      },
      "source": [
        "image_pil = Image.open(path)\r\n",
        "image = np.array(image_pil)"
      ],
      "execution_count": 54,
      "outputs": []
    },
    {
      "cell_type": "code",
      "metadata": {
        "id": "Na9Hk2xy_fgc",
        "colab": {
          "base_uri": "https://localhost:8080/"
        },
        "outputId": "df5b33ab-cd92-4895-bbb3-1266a911fe26"
      },
      "source": [
        "image.shape"
      ],
      "execution_count": 55,
      "outputs": [
        {
          "output_type": "execute_result",
          "data": {
            "text/plain": [
              "(28, 28)"
            ]
          },
          "metadata": {
            "tags": []
          },
          "execution_count": 55
        }
      ]
    },
    {
      "cell_type": "code",
      "metadata": {
        "id": "qnjBb4Ce_fgd",
        "colab": {
          "base_uri": "https://localhost:8080/",
          "height": 265
        },
        "outputId": "dcbe1092-64f7-4120-9e7c-e2448b14ebde"
      },
      "source": [
        "plt.imshow(image, 'gray')\r\n",
        "plt.show()"
      ],
      "execution_count": 56,
      "outputs": [
        {
          "output_type": "display_data",
          "data": {
            "image/png": "[encoded data removed]",
            "text/plain": [
              "<Figure size 432x288 with 1 Axes>"
            ]
          },
          "metadata": {
            "tags": [],
            "needs_background": "light"
          }
        }
      ]
    },
    {
      "cell_type": "markdown",
      "metadata": {
        "id": "CN0eR3YR_fge"
      },
      "source": [
        "# TensorFlow로 열기"
      ]
    },
    {
      "cell_type": "code",
      "metadata": {
        "id": "LYDBcH-z9x_a"
      },
      "source": [
        "gfile = tf.io.read_file(path)\r\n",
        "image = tf.io.decode_image(gfile)"
      ],
      "execution_count": 58,
      "outputs": []
    },
    {
      "cell_type": "code",
      "metadata": {
        "colab": {
          "base_uri": "https://localhost:8080/"
        },
        "id": "M5GpAxSL99uD",
        "outputId": "5e076c69-645d-480d-f8fb-f45f783ccaf6"
      },
      "source": [
        "image.shape"
      ],
      "execution_count": 59,
      "outputs": [
        {
          "output_type": "execute_result",
          "data": {
            "text/plain": [
              "TensorShape([28, 28, 1])"
            ]
          },
          "metadata": {
            "tags": []
          },
          "execution_count": 59
        }
      ]
    },
    {
      "cell_type": "code",
      "metadata": {
        "colab": {
          "base_uri": "https://localhost:8080/",
          "height": 265
        },
        "id": "LUQASFxY96Z7",
        "outputId": "514ea5b3-ddc0-46bb-bda0-90aeb0330691"
      },
      "source": [
        "plt.imshow(image[:,:, 0], 'gray')\r\n",
        "plt.show()"
      ],
      "execution_count": 60,
      "outputs": [
        {
          "output_type": "display_data",
          "data": {
            "image/png": "[encoded data removed]",
            "text/plain": [
              "<Figure size 432x288 with 1 Axes>"
            ]
          },
          "metadata": {
            "tags": [],
            "needs_background": "light"
          }
        }
      ]
    },
    {
      "cell_type": "markdown",
      "metadata": {
        "id": "e-AyNYUp_fgi"
      },
      "source": [
        "# Label 얻기"
      ]
    },
    {
      "cell_type": "code",
      "metadata": {
        "colab": {
          "base_uri": "https://localhost:8080/",
          "height": 35
        },
        "id": "vD9x--3n9y8D",
        "outputId": "413e3e5b-0323-457e-c679-8f6721b1c756"
      },
      "source": [
        "path"
      ],
      "execution_count": 61,
      "outputs": [
        {
          "output_type": "execute_result",
          "data": {
            "application/vnd.google.colaboratory.intrinsic+json": {
              "type": "string"
            },
            "text/plain": [
              "'/content/mnist_png/training/3/29304.png'"
            ]
          },
          "metadata": {
            "tags": []
          },
          "execution_count": 61
        }
      ]
    },
    {
      "cell_type": "code",
      "metadata": {
        "colab": {
          "base_uri": "https://localhost:8080/"
        },
        "id": "hlmK8mag-XxV",
        "outputId": "c62e7628-7dd8-4ff2-fbcb-d8cf2e063563"
      },
      "source": [
        "path.split('/')"
      ],
      "execution_count": 65,
      "outputs": [
        {
          "output_type": "execute_result",
          "data": {
            "text/plain": [
              "['', 'content', 'mnist_png', 'training', '3', '29304.png']"
            ]
          },
          "metadata": {
            "tags": []
          },
          "execution_count": 65
        }
      ]
    },
    {
      "cell_type": "code",
      "metadata": {
        "id": "qEaVNon7-x7v"
      },
      "source": [
        "label = path.split('/')[-2]"
      ],
      "execution_count": 68,
      "outputs": []
    },
    {
      "cell_type": "code",
      "metadata": {
        "colab": {
          "base_uri": "https://localhost:8080/",
          "height": 35
        },
        "id": "wN5_krCa-wOJ",
        "outputId": "d2918b3e-b278-4798-b9d5-aa42cc65ce31"
      },
      "source": [
        "label"
      ],
      "execution_count": 69,
      "outputs": [
        {
          "output_type": "execute_result",
          "data": {
            "application/vnd.google.colaboratory.intrinsic+json": {
              "type": "string"
            },
            "text/plain": [
              "'3'"
            ]
          },
          "metadata": {
            "tags": []
          },
          "execution_count": 69
        }
      ]
    },
    {
      "cell_type": "code",
      "metadata": {
        "colab": {
          "base_uri": "https://localhost:8080/"
        },
        "id": "55Ag4f6b_Dnh",
        "outputId": "5029953b-df8b-4a9e-fe39-5ebb612225d8"
      },
      "source": [
        "int(label)"
      ],
      "execution_count": 70,
      "outputs": [
        {
          "output_type": "execute_result",
          "data": {
            "text/plain": [
              "3"
            ]
          },
          "metadata": {
            "tags": []
          },
          "execution_count": 70
        }
      ]
    },
    {
      "cell_type": "code",
      "metadata": {
        "id": "YqJn8ece_Ent"
      },
      "source": [
        "def get_label(path):\r\n",
        "    class_name = path.split('/')[-2]\r\n",
        "    label = int(class_name)\r\n",
        "    return label"
      ],
      "execution_count": 71,
      "outputs": []
    },
    {
      "cell_type": "code",
      "metadata": {
        "colab": {
          "base_uri": "https://localhost:8080/"
        },
        "id": "daQSlCmM_Rrq",
        "outputId": "5b07ef23-00d7-4bbd-aded-fda974143258"
      },
      "source": [
        "path, get_label(path)"
      ],
      "execution_count": 73,
      "outputs": [
        {
          "output_type": "execute_result",
          "data": {
            "text/plain": [
              "('/content/mnist_png/training/3/29304.png', 3)"
            ]
          },
          "metadata": {
            "tags": []
          },
          "execution_count": 73
        }
      ]
    },
    {
      "cell_type": "markdown",
      "metadata": {
        "id": "_FYdlDfQ_fgq"
      },
      "source": [
        "# 데이터 이미지 사이즈 알기"
      ]
    },
    {
      "cell_type": "code",
      "metadata": {
        "id": "g_QSTg_i9zYq"
      },
      "source": [
        "from tqdm import tqdm_notebook"
      ],
      "execution_count": 74,
      "outputs": []
    },
    {
      "cell_type": "code",
      "metadata": {
        "id": "yT99rmMa_8vi"
      },
      "source": [
        "heights = []\r\n",
        "widths = []"
      ],
      "execution_count": 85,
      "outputs": []
    },
    {
      "cell_type": "code",
      "metadata": {
        "colab": {
          "base_uri": "https://localhost:8080/"
        },
        "id": "ZQNkg4LaAvvH",
        "outputId": "9d929f9e-ab03-4e12-e931-646a45d86dd6"
      },
      "source": [
        "data_paths[:10]"
      ],
      "execution_count": 76,
      "outputs": [
        {
          "output_type": "execute_result",
          "data": {
            "text/plain": [
              "['/content/mnist_png/training/3/29304.png',\n",
              " '/content/mnist_png/training/3/33583.png',\n",
              " '/content/mnist_png/training/3/34407.png',\n",
              " '/content/mnist_png/training/3/8077.png',\n",
              " '/content/mnist_png/training/3/20356.png',\n",
              " '/content/mnist_png/training/3/59808.png',\n",
              " '/content/mnist_png/training/3/18343.png',\n",
              " '/content/mnist_png/training/3/7980.png',\n",
              " '/content/mnist_png/training/3/42210.png',\n",
              " '/content/mnist_png/training/3/54524.png']"
            ]
          },
          "metadata": {
            "tags": []
          },
          "execution_count": 76
        }
      ]
    },
    {
      "cell_type": "code",
      "metadata": {
        "colab": {
          "base_uri": "https://localhost:8080/"
        },
        "id": "dXX7XK-fAxS3",
        "outputId": "2054a476-3ce1-42fd-cbfd-13d55b25e6e0"
      },
      "source": [
        "len(data_paths)"
      ],
      "execution_count": 77,
      "outputs": [
        {
          "output_type": "execute_result",
          "data": {
            "text/plain": [
              "60000"
            ]
          },
          "metadata": {
            "tags": []
          },
          "execution_count": 77
        }
      ]
    },
    {
      "cell_type": "code",
      "metadata": {
        "colab": {
          "base_uri": "https://localhost:8080/"
        },
        "id": "ns_5y9-lA9Vx",
        "outputId": "6a45b9af-1e2a-44dd-cbea-387a8bb48373"
      },
      "source": [
        "img_pil = Image.open(path)\r\n",
        "image = np.array(img_pil)\r\n",
        "image.shape"
      ],
      "execution_count": 79,
      "outputs": [
        {
          "output_type": "execute_result",
          "data": {
            "text/plain": [
              "(28, 28)"
            ]
          },
          "metadata": {
            "tags": []
          },
          "execution_count": 79
        }
      ]
    },
    {
      "cell_type": "code",
      "metadata": {
        "id": "JFC_Fe9IBCMw"
      },
      "source": [
        "h, w = image.shape"
      ],
      "execution_count": 81,
      "outputs": []
    },
    {
      "cell_type": "code",
      "metadata": {
        "colab": {
          "base_uri": "https://localhost:8080/"
        },
        "id": "pXPfkKUgBEY5",
        "outputId": "0361f6a4-5737-4228-8b51-079c6d7b2268"
      },
      "source": [
        "w"
      ],
      "execution_count": 82,
      "outputs": [
        {
          "output_type": "execute_result",
          "data": {
            "text/plain": [
              "28"
            ]
          },
          "metadata": {
            "tags": []
          },
          "execution_count": 82
        }
      ]
    },
    {
      "cell_type": "code",
      "metadata": {
        "colab": {
          "base_uri": "https://localhost:8080/",
          "height": 139,
          "referenced_widgets": [
            "48f068f3dfdb4241a5d48069f9007a98",
            "f9e531eb36a14806aadd39e547c13435",
            "0fcd71939cfa4c93b00380a2daad3060",
            "81ff990a0ea6463cbd8ec24477b0af6d",
            "8688e33d7a7b48d691d3cbdeba2856d9",
            "38dc05f0f19e4b78ad21244444540611",
            "c9640b05e28740dabdd192b6aef74b5d",
            "5d595fbbf5544c7494f3d457b1f02063"
          ]
        },
        "id": "ca28Hle6Ay5A",
        "outputId": "9b3edd04-c11b-42df-fe69-ca7fe84da62d"
      },
      "source": [
        "for path in tqdm_notebook(data_paths):\r\n",
        "    img_pil = Image.open(path)\r\n",
        "    image = np.array(img_pil)\r\n",
        "    h, w = image.shape\r\n",
        "\r\n",
        "    heights.append(h)\r\n",
        "    widths.append(w)"
      ],
      "execution_count": 87,
      "outputs": [
        {
          "output_type": "stream",
          "text": [
            "/usr/local/lib/python3.6/dist-packages/ipykernel_launcher.py:1: TqdmDeprecationWarning: This function will be removed in tqdm==5.0.0\n",
            "Please use `tqdm.notebook.tqdm` instead of `tqdm.tqdm_notebook`\n",
            "  \"\"\"Entry point for launching an IPython kernel.\n"
          ],
          "name": "stderr"
        },
        {
          "output_type": "display_data",
          "data": {
            "application/vnd.jupyter.widget-view+json": {
              "model_id": "48f068f3dfdb4241a5d48069f9007a98",
              "version_minor": 0,
              "version_major": 2
            },
            "text/plain": [
              "HBox(children=(FloatProgress(value=0.0, max=60000.0), HTML(value='')))"
            ]
          },
          "metadata": {
            "tags": []
          }
        },
        {
          "output_type": "stream",
          "text": [
            "\n"
          ],
          "name": "stdout"
        }
      ]
    },
    {
      "cell_type": "code",
      "metadata": {
        "colab": {
          "base_uri": "https://localhost:8080/"
        },
        "id": "PcJHDgR2BGO2",
        "outputId": "579982c9-8bb7-4949-a8da-a1209a334320"
      },
      "source": [
        "np.unique(heights)"
      ],
      "execution_count": 88,
      "outputs": [
        {
          "output_type": "execute_result",
          "data": {
            "text/plain": [
              "array([28])"
            ]
          },
          "metadata": {
            "tags": []
          },
          "execution_count": 88
        }
      ]
    },
    {
      "cell_type": "code",
      "metadata": {
        "colab": {
          "base_uri": "https://localhost:8080/"
        },
        "id": "23Q-V5FSBGRy",
        "outputId": "d248d9b9-9568-424d-d201-a677510da861"
      },
      "source": [
        "np.unique(widths)"
      ],
      "execution_count": 89,
      "outputs": [
        {
          "output_type": "execute_result",
          "data": {
            "text/plain": [
              "array([28])"
            ]
          },
          "metadata": {
            "tags": []
          },
          "execution_count": 89
        }
      ]
    },
    {
      "cell_type": "code",
      "metadata": {
        "colab": {
          "base_uri": "https://localhost:8080/",
          "height": 335
        },
        "id": "1m1OUrFpBGUg",
        "outputId": "33ea7969-546d-4b39-8489-afeb2d0707bf"
      },
      "source": [
        "plt.figure(figsize=(20, 10))\r\n",
        "\r\n",
        "plt.subplot(121)\r\n",
        "plt.hist(heights)\r\n",
        "plt.title('Heights')\r\n",
        "plt.axvline(np.mean(heights), color='r', linestyle='dashed', linewidth=2)\r\n",
        "\r\n",
        "plt.subplot(122)\r\n",
        "plt.hist(widths)\r\n",
        "plt.title('Widths')\r\n",
        "plt.axvline(np.mean(widths), color='r', linestyle='dashed', linewidth=2)\r\n",
        "\r\n",
        "\r\n",
        "plt.show()"
      ],
      "execution_count": 95,
      "outputs": [
        {
          "output_type": "display_data",
          "data": {
            "image/png": "[encoded data removed]",
            "text/plain": [
              "<Figure size 1440x720 with 2 Axes>"
            ]
          },
          "metadata": {
            "tags": [],
            "needs_background": "light"
          }
        }
      ]
    },
    {
      "cell_type": "code",
      "metadata": {
        "id": "ZVhFfgyYBGWf"
      },
      "source": [
        ""
      ],
      "execution_count": 83,
      "outputs": []
    },
    {
      "cell_type": "code",
      "metadata": {
        "id": "y0KmU4IEBGZx"
      },
      "source": [
        ""
      ],
      "execution_count": 83,
      "outputs": []
    },
    {
      "cell_type": "code",
      "metadata": {
        "id": "-dLMnOeYBGcD"
      },
      "source": [
        ""
      ],
      "execution_count": null,
      "outputs": []
    }
  ]
}